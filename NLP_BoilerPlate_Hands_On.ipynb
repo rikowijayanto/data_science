{
  "nbformat": 4,
  "nbformat_minor": 0,
  "metadata": {
    "colab": {
      "name": "NLP_BoilerPlate_Hands-On",
      "provenance": []
    },
    "kernelspec": {
      "name": "python3",
      "display_name": "Python 3"
    }
  },
  "cells": [
    {
      "cell_type": "code",
      "metadata": {
        "id": "DDYtSqdQUIvK",
        "colab_type": "code",
        "colab": {
          "base_uri": "https://localhost:8080/",
          "height": 34
        },
        "outputId": "50710b22-8d16-4446-cd2f-6fc48c9eefdd"
      },
      "source": [
        "from google.colab import drive\n",
        "drive.mount('/content/drive')"
      ],
      "execution_count": 36,
      "outputs": [
        {
          "output_type": "stream",
          "text": [
            "Drive already mounted at /content/drive; to attempt to forcibly remount, call drive.mount(\"/content/drive\", force_remount=True).\n"
          ],
          "name": "stdout"
        }
      ]
    },
    {
      "cell_type": "code",
      "metadata": {
        "id": "WLRsa2ZyUJ1z",
        "colab_type": "code",
        "colab": {}
      },
      "source": [
        "HOME_DIR = '/content/drive/My Drive/Colab Notebooks/'"
      ],
      "execution_count": 37,
      "outputs": []
    },
    {
      "cell_type": "code",
      "metadata": {
        "id": "NoQ1d0G4UQSa",
        "colab_type": "code",
        "colab": {}
      },
      "source": [
        "# import library\n",
        "import numpy as np\n",
        "import pandas as pd\n",
        "import matplotlib.pyplot as plt\n",
        "from sklearn.feature_extraction.text import TfidfVectorizer\n",
        "from sklearn.naive_bayes import MultinomialNB\n",
        "from sklearn.pipeline import Pipeline\n",
        "from sklearn.metrics import classification_report\n",
        "import pickle\n",
        "%matplotlib inline"
      ],
      "execution_count": 38,
      "outputs": []
    },
    {
      "cell_type": "code",
      "metadata": {
        "id": "T3Lg1lS0URfy",
        "colab_type": "code",
        "colab": {
          "base_uri": "https://localhost:8080/",
          "height": 204
        },
        "outputId": "658477c5-9767-44df-fe2c-9c99209cac21"
      },
      "source": [
        "# open file\n",
        "df = pd.read_csv(HOME_DIR+'ecom_op.csv', header=None)\n",
        "df = df[[0,1]]\n",
        "df.columns = ['tweet', 'label']\n",
        "df.head()"
      ],
      "execution_count": 41,
      "outputs": [
        {
          "output_type": "execute_result",
          "data": {
            "text/html": [
              "<div>\n",
              "<style scoped>\n",
              "    .dataframe tbody tr th:only-of-type {\n",
              "        vertical-align: middle;\n",
              "    }\n",
              "\n",
              "    .dataframe tbody tr th {\n",
              "        vertical-align: top;\n",
              "    }\n",
              "\n",
              "    .dataframe thead th {\n",
              "        text-align: right;\n",
              "    }\n",
              "</style>\n",
              "<table border=\"1\" class=\"dataframe\">\n",
              "  <thead>\n",
              "    <tr style=\"text-align: right;\">\n",
              "      <th></th>\n",
              "      <th>tweet</th>\n",
              "      <th>label</th>\n",
              "    </tr>\n",
              "  </thead>\n",
              "  <tbody>\n",
              "    <tr>\n",
              "      <th>0</th>\n",
              "      <td>@firstlogistics_ @bliblidotcom @bliblicare @yl...</td>\n",
              "      <td>-1</td>\n",
              "    </tr>\n",
              "    <tr>\n",
              "      <th>1</th>\n",
              "      <td>@bliblidotcom @bliblicare tidak ada link yg pa...</td>\n",
              "      <td>-1</td>\n",
              "    </tr>\n",
              "    <tr>\n",
              "      <th>2</th>\n",
              "      <td>@bliblidotcom min ga relavan twittnya, sekaran...</td>\n",
              "      <td>-1</td>\n",
              "    </tr>\n",
              "    <tr>\n",
              "      <th>3</th>\n",
              "      <td>@bcaklikpay @ferdian08 @bliblidotcom jawaban p...</td>\n",
              "      <td>-1</td>\n",
              "    </tr>\n",
              "    <tr>\n",
              "      <th>4</th>\n",
              "      <td>waah harus hati2 nih.. kl yg ga teliti bs ke p...</td>\n",
              "      <td>-1</td>\n",
              "    </tr>\n",
              "  </tbody>\n",
              "</table>\n",
              "</div>"
            ],
            "text/plain": [
              "                                               tweet  label\n",
              "0  @firstlogistics_ @bliblidotcom @bliblicare @yl...     -1\n",
              "1  @bliblidotcom @bliblicare tidak ada link yg pa...     -1\n",
              "2  @bliblidotcom min ga relavan twittnya, sekaran...     -1\n",
              "3  @bcaklikpay @ferdian08 @bliblidotcom jawaban p...     -1\n",
              "4  waah harus hati2 nih.. kl yg ga teliti bs ke p...     -1"
            ]
          },
          "metadata": {
            "tags": []
          },
          "execution_count": 41
        }
      ]
    },
    {
      "cell_type": "code",
      "metadata": {
        "id": "tZXQ-h7NxDvm",
        "colab_type": "code",
        "colab": {}
      },
      "source": [
        "stp = open(HOME_DIR+'twitter_stp.dic')\n",
        "stp_words = []\n",
        "item = stp.readline()\n",
        "\n",
        "while item != '':\n",
        "  stp_words.append(item)\n",
        "  item = stp.readline()"
      ],
      "execution_count": 68,
      "outputs": []
    },
    {
      "cell_type": "code",
      "metadata": {
        "id": "59A-YZrRxI2m",
        "colab_type": "code",
        "colab": {
          "base_uri": "https://localhost:8080/",
          "height": 34
        },
        "outputId": "7ad325e0-523e-4a7f-b728-ccba4caf9b75"
      },
      "source": [
        "len(stp_words)"
      ],
      "execution_count": 69,
      "outputs": [
        {
          "output_type": "execute_result",
          "data": {
            "text/plain": [
              "987"
            ]
          },
          "metadata": {
            "tags": []
          },
          "execution_count": 69
        }
      ]
    },
    {
      "cell_type": "code",
      "metadata": {
        "id": "PRybHhWisesB",
        "colab_type": "code",
        "colab": {
          "base_uri": "https://localhost:8080/",
          "height": 34
        },
        "outputId": "f080bffd-1f21-4e41-acd9-1fc15dc128f3"
      },
      "source": [
        "df.shape"
      ],
      "execution_count": 49,
      "outputs": [
        {
          "output_type": "execute_result",
          "data": {
            "text/plain": [
              "(3144, 2)"
            ]
          },
          "metadata": {
            "tags": []
          },
          "execution_count": 49
        }
      ]
    },
    {
      "cell_type": "code",
      "metadata": {
        "id": "cawoU4_0up7X",
        "colab_type": "code",
        "colab": {
          "base_uri": "https://localhost:8080/",
          "height": 204
        },
        "outputId": "bc2496ef-922d-4a2f-e4ec-7cd8ebbad985"
      },
      "source": [
        "df.tweet.head(10).values"
      ],
      "execution_count": 66,
      "outputs": [
        {
          "output_type": "execute_result",
          "data": {
            "text/plain": [
              "array(['@firstlogistics_ @bliblidotcom @bliblicare @ylki_id rasanya kecewa bgt sm jasa logistik satu ini, gak ada niat baik. ',\n",
              "       '@bliblidotcom @bliblicare tidak ada link yg pasti produknya speaker niko harga 160rbuan kirim ke manyar gresik masa kena ongkir 90rb ',\n",
              "       '@bliblidotcom min ga relavan twittnya, sekarang kan tanggal 19 april .. berarti ini twit dari masa lalu ya min? ',\n",
              "       '@bcaklikpay @ferdian08 @bliblidotcom jawaban pun klise, besok dicoba lagi bla bla bla.. klikpay emg ga pnh belajar dr pglmn kmrn2.. ',\n",
              "       'waah harus hati2 nih.. kl yg ga teliti bs ke potong harga normal.. parah jg ya @bcaklikpay dan @bliblidotcom ',\n",
              "       '@bcaklikpay @ferdian08 @bliblidotcom ane jg kena php, di chart dpt disc 65rb, proses ke klikpay kena harga normal.. ',\n",
              "       '@bcaklikpay @bliblidotcom bkn mslh coba lagi, tp krn kegoblokan sistem @bliblidotcom jd ga dpt.. ',\n",
              "       '@bliblidotcom daftar merchant kok gak ada respon ya sejak kemarin? ',\n",
              "       '@bliblicare no. pesanan: 12000300150 ku @bliblidotcom udah hampir sebulan nih, #sabar gak nongol2 jg #superkecewa ',\n",
              "       'tapi sampai saat ini belum ada yang konfirmasi ke saya.. . @bliblidotcom @bliblicare msh brthn dgn sistem lemotnya '],\n",
              "      dtype=object)"
            ]
          },
          "metadata": {
            "tags": []
          },
          "execution_count": 66
        }
      ]
    },
    {
      "cell_type": "code",
      "metadata": {
        "id": "KITFH7hOvyUD",
        "colab_type": "code",
        "colab": {}
      },
      "source": [
        "def data_cleansing(string):\n",
        "  "
      ],
      "execution_count": null,
      "outputs": []
    },
    {
      "cell_type": "code",
      "metadata": {
        "id": "6d93QSGHrfJm",
        "colab_type": "code",
        "colab": {}
      },
      "source": [
        "from sklearn.model_selection import train_test_split\n",
        "X_train, X_test, y_train, y_label = train_test_split(df.tweet, df.label)"
      ],
      "execution_count": 55,
      "outputs": []
    },
    {
      "cell_type": "code",
      "metadata": {
        "id": "gBCPcNRItinN",
        "colab_type": "code",
        "colab": {
          "base_uri": "https://localhost:8080/",
          "height": 34
        },
        "outputId": "bc30a47c-f47b-4e30-d76d-0efa2685814d"
      },
      "source": [
        "print(X_train.shape, X_test.shape, y_train.shape, y_label.shape)"
      ],
      "execution_count": 56,
      "outputs": [
        {
          "output_type": "stream",
          "text": [
            "(2358,) (786,) (2358,) (786,)\n"
          ],
          "name": "stdout"
        }
      ]
    },
    {
      "cell_type": "code",
      "metadata": {
        "id": "UKKGX7LWUTNK",
        "colab_type": "code",
        "colab": {}
      },
      "source": [
        "# feature extraction using Bag of Words\n",
        "vect = TfidfVectorizer(min_df=0.005, max_df=0.99, stop_words=stp_words, \n",
        "                       token_pattern='\\\\b[a-zA-Z][a-zA-Z][a-zA-Z]+\\\\b')"
      ],
      "execution_count": 71,
      "outputs": []
    },
    {
      "cell_type": "code",
      "metadata": {
        "id": "0Vp0vGRzUUsJ",
        "colab_type": "code",
        "colab": {}
      },
      "source": [
        "# machine learning model\n",
        "model = MultinomialNB(alpha=0.3)"
      ],
      "execution_count": 87,
      "outputs": []
    },
    {
      "cell_type": "code",
      "metadata": {
        "id": "c_SZeWl2zM8U",
        "colab_type": "code",
        "colab": {}
      },
      "source": [
        "from sklearn.ensemble import RandomForestClassifier\n",
        "model = RandomForestClassifier()"
      ],
      "execution_count": 92,
      "outputs": []
    },
    {
      "cell_type": "code",
      "metadata": {
        "id": "Ph93FT1rUV8B",
        "colab_type": "code",
        "colab": {}
      },
      "source": [
        "# create pipeline\n",
        "pipeline = Pipeline([\n",
        "                     ('vect',vect),\n",
        "                     ('clf',model)\n",
        "])"
      ],
      "execution_count": 93,
      "outputs": []
    },
    {
      "cell_type": "code",
      "metadata": {
        "id": "rnVZtDGGr4OW",
        "colab_type": "code",
        "colab": {
          "base_uri": "https://localhost:8080/",
          "height": 408
        },
        "outputId": "0e5e48a4-0fff-47ac-9546-34fea728c5cb"
      },
      "source": [
        "pipeline.fit(X_train, y_train)"
      ],
      "execution_count": 94,
      "outputs": [
        {
          "output_type": "execute_result",
          "data": {
            "text/plain": [
              "Pipeline(memory=None,\n",
              "         steps=[('vect',\n",
              "                 TfidfVectorizer(analyzer='word', binary=False,\n",
              "                                 decode_error='strict',\n",
              "                                 dtype=<class 'numpy.float64'>,\n",
              "                                 encoding='utf-8', input='content',\n",
              "                                 lowercase=True, max_df=0.99, max_features=None,\n",
              "                                 min_df=0.005, ngram_range=(1, 1), norm='l2',\n",
              "                                 preprocessor=None, smooth_idf=True,\n",
              "                                 stop_words=['a\\n', 'ada\\n', 'adalah\\n', 'ah\\n',\n",
              "                                             'akan\\n', 'aku\\n', 'all...\n",
              "                 RandomForestClassifier(bootstrap=True, ccp_alpha=0.0,\n",
              "                                        class_weight=None, criterion='gini',\n",
              "                                        max_depth=None, max_features='auto',\n",
              "                                        max_leaf_nodes=None, max_samples=None,\n",
              "                                        min_impurity_decrease=0.0,\n",
              "                                        min_impurity_split=None,\n",
              "                                        min_samples_leaf=1, min_samples_split=2,\n",
              "                                        min_weight_fraction_leaf=0.0,\n",
              "                                        n_estimators=100, n_jobs=None,\n",
              "                                        oob_score=False, random_state=None,\n",
              "                                        verbose=0, warm_start=False))],\n",
              "         verbose=False)"
            ]
          },
          "metadata": {
            "tags": []
          },
          "execution_count": 94
        }
      ]
    },
    {
      "cell_type": "code",
      "metadata": {
        "id": "dH6kzjo2sYmX",
        "colab_type": "code",
        "colab": {}
      },
      "source": [
        "y_pred = pipeline.predict(X_test)"
      ],
      "execution_count": 95,
      "outputs": []
    },
    {
      "cell_type": "code",
      "metadata": {
        "id": "yHQSpU-Wt4QP",
        "colab_type": "code",
        "colab": {
          "base_uri": "https://localhost:8080/",
          "height": 187
        },
        "outputId": "27fa91fd-4bcf-47f9-b451-48dd260492ab"
      },
      "source": [
        "print(classification_report(y_pred, y_label)) #percobaan1"
      ],
      "execution_count": 62,
      "outputs": [
        {
          "output_type": "stream",
          "text": [
            "              precision    recall  f1-score   support\n",
            "\n",
            "          -1       0.02      0.67      0.04         3\n",
            "           0       1.00      0.71      0.83       770\n",
            "           1       0.09      1.00      0.17        13\n",
            "\n",
            "    accuracy                           0.71       786\n",
            "   macro avg       0.37      0.79      0.35       786\n",
            "weighted avg       0.98      0.71      0.81       786\n",
            "\n"
          ],
          "name": "stdout"
        }
      ]
    },
    {
      "cell_type": "code",
      "metadata": {
        "id": "t5sXLBdDxyCb",
        "colab_type": "code",
        "colab": {
          "base_uri": "https://localhost:8080/",
          "height": 187
        },
        "outputId": "cdc1915c-796a-4f23-da23-c0384bdab592"
      },
      "source": [
        "print(classification_report(y_pred, y_label)) #percobaan2"
      ],
      "execution_count": 86,
      "outputs": [
        {
          "output_type": "stream",
          "text": [
            "              precision    recall  f1-score   support\n",
            "\n",
            "          -1       0.13      0.81      0.22        16\n",
            "           0       0.98      0.74      0.84       728\n",
            "           1       0.25      0.83      0.39        42\n",
            "\n",
            "    accuracy                           0.74       786\n",
            "   macro avg       0.45      0.79      0.48       786\n",
            "weighted avg       0.93      0.74      0.80       786\n",
            "\n"
          ],
          "name": "stdout"
        }
      ]
    },
    {
      "cell_type": "code",
      "metadata": {
        "id": "1M-kxKppyM_t",
        "colab_type": "code",
        "colab": {
          "base_uri": "https://localhost:8080/",
          "height": 187
        },
        "outputId": "df6fa52d-07d9-464a-ac5b-20a4faf7835a"
      },
      "source": [
        "print(classification_report(y_pred, y_label)) #percobaan3"
      ],
      "execution_count": 91,
      "outputs": [
        {
          "output_type": "stream",
          "text": [
            "              precision    recall  f1-score   support\n",
            "\n",
            "          -1       0.18      0.67      0.28        27\n",
            "           0       0.95      0.75      0.84       690\n",
            "           1       0.36      0.72      0.48        69\n",
            "\n",
            "    accuracy                           0.75       786\n",
            "   macro avg       0.50      0.71      0.53       786\n",
            "weighted avg       0.87      0.75      0.79       786\n",
            "\n"
          ],
          "name": "stdout"
        }
      ]
    },
    {
      "cell_type": "code",
      "metadata": {
        "id": "xlrbDXtUzbnW",
        "colab_type": "code",
        "colab": {
          "base_uri": "https://localhost:8080/",
          "height": 187
        },
        "outputId": "7a9821e9-2dae-49bd-d6f8-8d6862fbc158"
      },
      "source": [
        "print(classification_report(y_pred, y_label)) #percobaan_random forest"
      ],
      "execution_count": 96,
      "outputs": [
        {
          "output_type": "stream",
          "text": [
            "              precision    recall  f1-score   support\n",
            "\n",
            "          -1       0.19      0.63      0.29        30\n",
            "           0       0.96      0.77      0.86       675\n",
            "           1       0.47      0.80      0.59        81\n",
            "\n",
            "    accuracy                           0.77       786\n",
            "   macro avg       0.54      0.74      0.58       786\n",
            "weighted avg       0.88      0.77      0.81       786\n",
            "\n"
          ],
          "name": "stdout"
        }
      ]
    },
    {
      "cell_type": "code",
      "metadata": {
        "id": "rqE1G5Klt55A",
        "colab_type": "code",
        "colab": {}
      },
      "source": [
        "new_tweet = [\"jangan belanja di toko A\", \"belanja di toko A banyak diskon\"]"
      ],
      "execution_count": 63,
      "outputs": []
    },
    {
      "cell_type": "code",
      "metadata": {
        "id": "RI_Qb3KEt_tk",
        "colab_type": "code",
        "colab": {
          "base_uri": "https://localhost:8080/",
          "height": 34
        },
        "outputId": "6c60cba6-01ad-41b3-9591-69ad5acccb44"
      },
      "source": [
        "pipeline.predict(new_tweet)"
      ],
      "execution_count": 64,
      "outputs": [
        {
          "output_type": "execute_result",
          "data": {
            "text/plain": [
              "array([0, 0])"
            ]
          },
          "metadata": {
            "tags": []
          },
          "execution_count": 64
        }
      ]
    },
    {
      "cell_type": "code",
      "metadata": {
        "id": "vEmHB5LqUc25",
        "colab_type": "code",
        "colab": {}
      },
      "source": [
        "# dump pipeline to pickle\n",
        "pickle.dump(pipeline,open(HOME_DIR+'model1.pkl', 'wb'))"
      ],
      "execution_count": 65,
      "outputs": []
    },
    {
      "cell_type": "code",
      "metadata": {
        "id": "V3qJp05it--x",
        "colab_type": "code",
        "colab": {}
      },
      "source": [
        "# grid search\n",
        "from sklearn.model_selection import GridSearchCV\n",
        "\n",
        "params = { 'vect__min_df' : [0, 0.05, 0.1],\n",
        "          'vect__max_df' : [0.9, 0.95, 0.99, 1],\n",
        "          'clf__min_samples_leaf': [1,2,3,4,5], \n",
        "          'clf__min_samples_split' : [2,3],\n",
        "          'clf__min_weight_fraction_leaf' : [0.0, 0.05, 0.1, 0.15],\n",
        "          'clf__n_estimators' : [100,125,120]}"
      ],
      "execution_count": 101,
      "outputs": []
    },
    {
      "cell_type": "code",
      "metadata": {
        "id": "xxjqnS6NUpzS",
        "colab_type": "code",
        "colab": {}
      },
      "source": [
        "grid = GridSearchCV(pipeline,\n",
        "                    params,\n",
        "                    n_jobs=4,\n",
        "                    cv=5)"
      ],
      "execution_count": 102,
      "outputs": []
    },
    {
      "cell_type": "code",
      "metadata": {
        "id": "fihGqjCK1KCL",
        "colab_type": "code",
        "colab": {
          "base_uri": "https://localhost:8080/",
          "height": 581
        },
        "outputId": "718b59b9-affe-43ed-a49f-dd566e106161"
      },
      "source": [
        "grid.fit(X_train, y_train)"
      ],
      "execution_count": 103,
      "outputs": [
        {
          "output_type": "stream",
          "text": [
            "/usr/local/lib/python3.6/dist-packages/sklearn/feature_extraction/text.py:385: UserWarning: Your stop_words may be inconsistent with your preprocessing. Tokenizing the stop words generated tokens ['aaa', 'aaaa', 'aaah', 'aah', 'aan', 'ada', 'adalah', 'adalh', 'adlah', 'adlh', 'aga', 'agak', 'agar', 'agk', 'agr', 'ahaha', 'ahh', 'ahhh', 'aja', 'ajaa', 'ajah', 'aje', 'akan', 'akhirnya', 'akhrny', 'akhrnya', 'akibat', 'akibatnya', 'akn', 'ako', 'aku', 'all', 'als', 'amat', 'ampe', 'amt', 'and', 'andaikan', 'andaikata', 'andaikn', 'ane', 'ank', 'antar', 'antara', 'antaranya', 'antarny', 'antr', 'antra', 'antrany', 'apa', 'apaa', 'apabila', 'apabla', 'apakah', 'apalagi', 'apbl', 'ape', 'are', 'asal', 'asalkan', 'atas', 'atau', 'ataupun', 'ato', 'ava', 'bagai', 'bagaikan', 'bagaimana', 'bagi', 'bahkan', 'bahwa', 'baik', 'bang', 'banget', 'banyak', 'barangkali', 'baru', 'bebas', 'beberapa', 'begitu', 'belum', 'berapa', 'berbagai', 'berhubung', 'berikut', 'berkat', 'bersama', 'besar', 'beserta', 'best', 'bet', 'bgt', 'biar', 'biarpun', 'biasanya', 'bij', 'bikin', 'bila', 'bilamana', 'bisa', 'bkn', 'blg', 'blh', 'blm', 'blom', 'blum', 'bnr', 'bnyk', 'bole', 'boleh', 'brarti', 'bro', 'bsa', 'bsk', 'bsok', 'btw', 'buat', 'bukan', 'but', 'bwt', 'byk', 'can', 'cek', 'cenderung', 'cie', 'ciee', 'cieee', 'ckck', 'cong', 'cont', 'cuma', 'cuman', 'dah', 'dak', 'dalam', 'dan', 'dapat', 'dari', 'daripada', 'day', 'deh', 'dehh', 'dekat', 'demi', 'demikian', 'dengan', 'depan', 'dgn', 'dia', 'dih', 'dimana', 'disebut', 'dit', 'dkt', 'dlm', 'dlu', 'dmn', 'dong', 'dongg', 'donk', 'dooong', 'dpt', 'dri', 'drpd', 'dtg', 'duh', 'dulu', 'dunia', 'dunk', 'eaaaa', 'ehem', 'ehh', 'elah', 'emang', 'emng', 'entah', 'entar', 'euy', 'follow', 'for', 'from', 'gabisa', 'gada', 'gag', 'gak', 'gan', 'gapapa', 'ggg', 'gimana', 'gitu', 'gmn', 'gmna', 'gpp', 'gtu', 'gua', 'gue', 'guna', 'hah', 'haha', 'hahaa', 'hahah', 'hahaha', 'hahahaa', 'hahahaha', 'hahahahaha', 'hahahha', 'hahha', 'hal', 'hampir', 'hanya', 'harus', 'have', 'heh', 'hehe', 'heheh', 'hehehe', 'hendaknya', 'hey', 'hha', 'hhaha', 'hhe', 'hihi', 'hihihi', 'hiks', 'hingga', 'hmm', 'hmmm', 'hoe', 'hoh', 'hoy', 'http', 'huh', 'huhu', 'ialah', 'iki', 'ingin', 'ini', 'itu', 'iya', 'iyaa', 'iyaaa', 'iyah', 'iye', 'iyo', 'jadi', 'jan', 'jangan', 'jarang', 'jdi', 'jelang', 'jeng', 'jga', 'jgn', 'jiah', 'jika', 'jikalau', 'juga', 'just', 'justru', 'kaga', 'kah', 'kak', 'kalau', 'kali', 'kalian', 'kalo', 'kami', 'kamu', 'kan', 'kapan', 'karena', 'karenanya', 'kata', 'kau', 'kecuali', 'kek', 'kemudian', 'kemungkinan', 'kenapa', 'kendati', 'kendatipun', 'kepada', 'ketika', 'kini', 'kita', 'kka', 'klo', 'kls', 'kmn', 'kmu', 'knp', 'knpa', 'kok', 'koq', 'krn', 'kya', 'kyk', 'laa', 'laen', 'lagi', 'lah', 'lahh', 'lain', 'laksana', 'lalu', 'lanjut', 'lantaran', 'lantas', 'lbh', 'lebih', 'lek', 'lewat', 'lgi', 'lha', 'lho', 'like', 'loe', 'loh', 'lol', 'luar', 'mah', 'mak', 'maka', 'makanya', 'makasi', 'makin', 'malah', 'malahan', 'mana', 'manakala', 'mane', 'mang', 'mas', 'masa', 'masalah', 'masi', 'masih', 'masyarakat', 'mau', 'maupun', 'melainkan', 'melalui', 'memang', 'men', 'mengapa', 'mengenai', 'mengingat', 'menjadi', 'menjelang', 'menuju', 'menurut', 'mereka', 'merupakan', 'meski', 'meskipun', 'mestinya', 'min', 'minta', 'mkn', 'mmg', 'moer', 'msh', 'msk', 'mulai', 'mungkin', 'nah', 'nak', 'nampaknya', 'namun', 'nanti', 'negara', 'neh', 'nek', 'new', 'nge', 'nggak', 'nian', 'nie', 'nih', 'nii', 'nnti', 'noh', 'not', 'ntar', 'ntn', 'ntr', 'nya', 'nyaa', 'nyampe', 'oalah', 'ohh', 'olah', 'oleh', 'omg', 'one', 'ook', 'ooo', 'opo', 'org', 'otw', 'pada', 'padahal', 'pak', 'pake', 'paling', 'para', 'pas', 'pasti', 'pda', 'pdhl', 'pemerintah', 'people', 'perlu', 'perlunya', 'pernah', 'pgn', 'pic', 'pisan', 'pke', 'plg', 'plis', 'posisi', 'prnah', 'prnh', 'pula', 'pun', 'qta', 'que', 'rada', 'rasa', 'saat', 'saja', 'salah', 'sama', 'samasama', 'sambil', 'sampai', 'sampe', 'samping', 'sana', 'sangat', 'satu', 'saya', 'sdh', 'seakan', 'seandainya', 'sebab', 'sebabnya', 'sebagai', 'sebagaimana', 'sebagainya', 'sebaiknya', 'sebaliknya', 'sebelum', 'sebetulnya', 'sebuah', 'secara', 'sedang', 'sedangkan', 'sedari', 'sedikit', 'segala', 'segera', 'sehabis', 'seharusnya', 'sehingga', 'sehubungan', 'sejak', 'sejauh', 'sek', 'sekadar', 'sekaligus', 'sekalipun', 'sekarang', 'sekeliling', 'sekiranya', 'sekitar', 'selagi', 'selain', 'selalu', 'selama', 'selesai', 'seluruh', 'semacam', 'semakin', 'semana', 'semasa', 'sembari', 'semenjak', 'sementara', 'sempat', 'semua', 'semuanya', 'sendiri', 'seolah', 'sepanjang', 'seperti', 'serasa', 'seraya', 'sering', 'seringkali', 'serta', 'sesuai', 'sesuatu', 'sesudah', 'sesungguhnya', 'setelah', 'setiap', 'seumpama', 'seusai', 'sewaktu', 'siapa', 'sih', 'sini', 'sip', 'sklh', 'skrg', 'skrng', 'smoga', 'smpe', 'smua', 'sok', 'sono', 'status', 'suatu', 'sudah', 'sungguhpun', 'supaya', 'sya', 'tadi', 'tah', 'tak', 'tambahan', 'tampaknya', 'tanpa', 'tapi', 'tatkala', 'tau', 'tdi', 'tdk', 'telah', 'temen', 'tempat', 'tentang', 'tentu', 'terhadap', 'terlalu', 'tersebut', 'tertentu', 'terus', 'terutama', 'tetap', 'tetapi', 'that', 'the', 'this', 'thx', 'tiap', 'tidak', 'time', 'tinggi', 'tinimbang', 'toh', 'tot', 'tpi', 'trs', 'ttp', 'tuh', 'tuju', 'tuk', 'turut', 'twitter', 'uda', 'udah', 'udh', 'ukk', 'ulang', 'umpamanya', 'untuk', 'utk', 'uuh', 'via', 'wae', 'wakakak', 'waktu', 'walau', 'walaupun', 'wat', 'wes', 'wew', 'what', 'will', 'with', 'wkwk', 'wkwkw', 'wkwkwkw', 'wkwkwkwk', 'woi', 'wong', 'woo', 'wow', 'woy', 'yaa', 'yaaa', 'yaaaateu', 'yaaah', 'yaah', 'yaampun', 'yaelah', 'yah', 'yahh', 'yaitu', 'yak', 'yakni', 'yan', 'yang', 'yeah', 'yee', 'yng', 'yoi', 'yok', 'you', 'your', 'yuk'] not in stop_words.\n",
            "  'stop_words.' % sorted(inconsistent))\n"
          ],
          "name": "stderr"
        },
        {
          "output_type": "execute_result",
          "data": {
            "text/plain": [
              "GridSearchCV(cv=5, error_score=nan,\n",
              "             estimator=Pipeline(memory=None,\n",
              "                                steps=[('vect',\n",
              "                                        TfidfVectorizer(analyzer='word',\n",
              "                                                        binary=False,\n",
              "                                                        decode_error='strict',\n",
              "                                                        dtype=<class 'numpy.float64'>,\n",
              "                                                        encoding='utf-8',\n",
              "                                                        input='content',\n",
              "                                                        lowercase=True,\n",
              "                                                        max_df=0.99,\n",
              "                                                        max_features=None,\n",
              "                                                        min_df=0.005,\n",
              "                                                        ngram_range=(1, 1),\n",
              "                                                        norm='l2',\n",
              "                                                        preprocessor=None,\n",
              "                                                        smooth_idf=True,\n",
              "                                                        stop_words=['a\\n',\n",
              "                                                                    'ad...\n",
              "                                verbose=False),\n",
              "             iid='deprecated', n_jobs=4,\n",
              "             param_grid={'clf__min_samples_leaf': [1, 2, 3, 4, 5],\n",
              "                         'clf__min_samples_split': [2, 3],\n",
              "                         'clf__min_weight_fraction_leaf': [0.0, 0.05, 0.1,\n",
              "                                                           0.15],\n",
              "                         'clf__n_estimators': [100, 125, 120],\n",
              "                         'vect__max_df': [0.9, 0.95, 0.99, 1],\n",
              "                         'vect__min_df': [0, 0.05, 0.1]},\n",
              "             pre_dispatch='2*n_jobs', refit=True, return_train_score=False,\n",
              "             scoring=None, verbose=0)"
            ]
          },
          "metadata": {
            "tags": []
          },
          "execution_count": 103
        }
      ]
    },
    {
      "cell_type": "code",
      "metadata": {
        "id": "Re_f2zvi1Nl0",
        "colab_type": "code",
        "colab": {
          "base_uri": "https://localhost:8080/",
          "height": 408
        },
        "outputId": "8cad6a22-0e82-440d-925f-5cc130c7d0c7"
      },
      "source": [
        "grid.best_estimator_"
      ],
      "execution_count": 104,
      "outputs": [
        {
          "output_type": "execute_result",
          "data": {
            "text/plain": [
              "Pipeline(memory=None,\n",
              "         steps=[('vect',\n",
              "                 TfidfVectorizer(analyzer='word', binary=False,\n",
              "                                 decode_error='strict',\n",
              "                                 dtype=<class 'numpy.float64'>,\n",
              "                                 encoding='utf-8', input='content',\n",
              "                                 lowercase=True, max_df=0.9, max_features=None,\n",
              "                                 min_df=0, ngram_range=(1, 1), norm='l2',\n",
              "                                 preprocessor=None, smooth_idf=True,\n",
              "                                 stop_words=['a\\n', 'ada\\n', 'adalah\\n', 'ah\\n',\n",
              "                                             'akan\\n', 'aku\\n', 'all\\n', '...\n",
              "                 RandomForestClassifier(bootstrap=True, ccp_alpha=0.0,\n",
              "                                        class_weight=None, criterion='gini',\n",
              "                                        max_depth=None, max_features='auto',\n",
              "                                        max_leaf_nodes=None, max_samples=None,\n",
              "                                        min_impurity_decrease=0.0,\n",
              "                                        min_impurity_split=None,\n",
              "                                        min_samples_leaf=1, min_samples_split=2,\n",
              "                                        min_weight_fraction_leaf=0.0,\n",
              "                                        n_estimators=125, n_jobs=None,\n",
              "                                        oob_score=False, random_state=None,\n",
              "                                        verbose=0, warm_start=False))],\n",
              "         verbose=False)"
            ]
          },
          "metadata": {
            "tags": []
          },
          "execution_count": 104
        }
      ]
    },
    {
      "cell_type": "code",
      "metadata": {
        "id": "yBGtGVFd7Fh5",
        "colab_type": "code",
        "colab": {}
      },
      "source": [
        ""
      ],
      "execution_count": null,
      "outputs": []
    }
  ]
}