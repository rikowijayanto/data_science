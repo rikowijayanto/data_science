{
 "cells": [
  {
   "cell_type": "code",
   "execution_count": 1,
   "metadata": {
    "colab": {
     "base_uri": "https://localhost:8080/"
    },
    "id": "HdQ20MgSfgw9",
    "outputId": "85b8d5c7-856d-4b5e-9186-1cc05fa69c80"
   },
   "outputs": [
    {
     "name": "stdout",
     "output_type": "stream",
     "text": [
      "Requirement already satisfied: jsonpickle in c:\\users\\hp\\anaconda3\\lib\\site-packages (2.0.0)Note: you may need to restart the kernel to use updated packages.\n",
      "\n"
     ]
    }
   ],
   "source": [
    "pip install jsonpickle"
   ]
  },
  {
   "cell_type": "code",
   "execution_count": 1,
   "metadata": {
    "id": "rYvIFXDMfVFF"
   },
   "outputs": [],
   "source": [
    "import tweepy\n",
    "import sys\n",
    "import jsonpickle\n",
    "import time\n",
    "from datetime import datetime\n",
    "from datetime import timedelta"
   ]
  },
  {
   "cell_type": "code",
   "execution_count": 2,
   "metadata": {
    "id": "WUvCkvwefVFN"
   },
   "outputs": [],
   "source": [
    "consumer_key = xxxxxxxxx
    "consumer_secret = 'xxxxx
    "access_token = xxxxxx
    "access_token_secret = xxxxxxxxxxx
    "\n",
    "auth=tweepy.AppAuthHandler(consumer_key, consumer_secret)"
   ]
  },
  {
   "cell_type": "code",
   "execution_count": 3,
   "metadata": {
    "id": "j5c8ZcBSfVFR"
   },
   "outputs": [],
   "source": [
    "since =(datetime.now()+timedelta(days=-1)).strftime(\"%y-%m-%d\")\n",
    "qry='first media -filter:links -filter:retweets -filter:images -filter:videos lang:in'\n",
    "maxTweets=2000\n",
    "tweetsPerQry = 100\n",
    "fName=since+'_Tweets.json'\n",
    "\n",
    "api=tweepy.API(auth, wait_on_rate_limit=True, wait_on_rate_limit_notify=True)"
   ]
  },
  {
   "cell_type": "code",
   "execution_count": 5,
   "metadata": {},
   "outputs": [],
   "source": [
    "#SNA\n",
    "import json\n",
    "#Kode where on earth identifier lookup pada http://woeid.rosselliot.co.nz/lookup/indonesia\n",
    "WOE_ID = 23424846\n",
    "#menggunakan api tweepy untuk memperoleh data trending topic twitter di Indonesia\n",
    "indonesia_trend = api.trends_place(WOE_ID)\n",
    "#print data trending topic yang telah didapatkan\n",
    "trends = json.loads(json.dumps(indonesia_trend, indent=1))"
   ]
  },
  {
   "cell_type": "code",
   "execution_count": 7,
   "metadata": {},
   "outputs": [
    {
     "name": "stdout",
     "output_type": "stream",
     "text": [
      "#BTSMeal\n",
      "#BTSMeal\n",
      "#GOING_SVT_TreasureIsland\n",
      "GOSE TREASURE ISLAND\n",
      "#Just_as_usual\n",
      "#0X1LOVESONG2ndWin\n",
      "Special Video\n",
      "Lawless\n",
      "ARMY\n",
      "Gofar\n",
      "Maudy Ayunda\n",
      "AKU CINTA KAMU\n",
      "THANK YOU EXO\n",
      "The International\n",
      "B.I DAYDREAM VISUALIZER\n",
      "Mekdi\n",
      "Salam TEGAR\n",
      "Arian\n",
      "Nugget\n",
      "Bungkusnya\n",
      "McDnya\n",
      "BTSnya\n",
      "Mabok\n",
      "Behind The Scene\n",
      "Saosnya\n",
      "galaxy buds pro\n",
      "SUMMER QUEEN IS BACK\n",
      "A. Smartphone\n",
      "Sabana\n",
      "FOMO\n",
      "MASHIHO X GETSUMOKU\n",
      "show champion with txt\n",
      "RV COMEBACK\n",
      "Pelecehan\n",
      "Cajun\n",
      "Sekut\n",
      "blackpink\n",
      "Burger\n",
      "Kompetisi Masa Pandemi\n",
      "Chef\n",
      "Antri\n",
      "rabu\n",
      "Stanford\n",
      "POINT OF VIEW\n",
      "Punk\n",
      "McDelivery\n",
      "tzuyu\n",
      "Gojek\n",
      "Isinya\n",
      "nayeon\n"
     ]
    }
   ],
   "source": [
    "#mencetak trending topic name\n",
    "trends = json.loads(json.dumps(indonesia_trend, indent=1))\n",
    "for trend in trends:\n",
    "    for t in trend[\"trends\"]:\n",
    "        print(t[\"name\"])"
   ]
  },
  {
   "cell_type": "code",
   "execution_count": 8,
   "metadata": {},
   "outputs": [],
   "source": [
    "since =(datetime.now()+timedelta(days=-1)).strftime(\"%y-%m-%d\")\n",
    "qry='#BTSmeal -filter:links -filter:retweets -filter:images -filter:videos lang:in'\n",
    "maxTweets=100000\n",
    "tweetsPerQry = 100\n",
    "fName=since+'_Tweets.json'\n",
    "\n",
    "api=tweepy.API(auth, wait_on_rate_limit=True, wait_on_rate_limit_notify=True)"
   ]
  },
  {
   "cell_type": "markdown",
   "metadata": {},
   "source": [
    "# SENTIMEN ANALYSIS"
   ]
  },
  {
   "cell_type": "code",
   "execution_count": 9,
   "metadata": {
    "colab": {
     "base_uri": "https://localhost:8080/"
    },
    "id": "_uXhsYepfVFT",
    "outputId": "783bc024-0288-48e6-fd52-14010211e20f"
   },
   "outputs": [
    {
     "name": "stdout",
     "output_type": "stream",
     "text": [
      "Mulai mengunduh maksimum 100000 tweets\n",
      "Jumlah Tweets telah tersimpan: 8322Tidak ada lagi Tweet ditemukan dengan Query=\"#BTSmeal -filter:links -filter:retweets -filter:images -filter:videos lang:in\"\n",
      "\n",
      "Selesai! 8322 tweets tersimpan di \"21-06-08_Tweets.json\"\n"
     ]
    }
   ],
   "source": [
    "if (not api):\n",
    "    sys.exit('Otentikasi gagal, mohon cek \"Consumer Key\" & \"Consumer Secret\" Twitter anda')\n",
    "\n",
    "sinceId, max_id, tweetCount = None, -1, 0\n",
    "\n",
    "print(\"Mulai mengunduh maksimum {0} tweets\".format(maxTweets))\n",
    "\n",
    "with open(fName,'w') as f:\n",
    "    while tweetCount < maxTweets:\n",
    "        try:\n",
    "            if (max_id <= 0):\n",
    "                if (not sinceId):\n",
    "                  # nahhh nak kene lho ko, tak tambahi lang\n",
    "                    new_tweets=api.search(q=qry,lang='id',count=tweetsPerQry, tweet_mode='extended')\n",
    "                else:\n",
    "                    new_tweets=api.search(q=qry,lang='id',count=tweetsPerQry,since_id=sinceId, tweet_mode='extended')\n",
    "            else:\n",
    "                if (not sinceId):\n",
    "                    new_tweets=api.search(q=qry,lang='id',count=tweetsPerQry,max_id=str(max_id-1), tweet_mode='extended')\n",
    "                else:\n",
    "                    new_tweets=api.search(q=qry,lang='id',count=tweetsPerQry,max_id=str(max_id-1),since_id=sinceId, tweet_mode='extended')\n",
    "                    \n",
    "            if not new_tweets:\n",
    "                print('Tidak ada lagi Tweet ditemukan dengan Query=\"{0}\"'.format(qry));break\n",
    "            \n",
    "            for tweet in new_tweets:\n",
    "                if(tweet.created_at.date() < datetime.now().date()) :\n",
    "                    f.write(jsonpickle.encode(tweet._json,unpicklable=False)+'\\n')\n",
    "            tweetCount+=len(new_tweets)\n",
    "            sys.stdout.write(\"\\r\");\n",
    "            sys.stdout.write(\"Jumlah Tweets telah tersimpan: %.0f\" %tweetCount);sys.stdout.flush()\n",
    "            max_id=new_tweets[-1].id\n",
    "            \n",
    "        except tweepy.TweepError as e:\n",
    "            print(\"some error : \" + str(e));break\n",
    "            \n",
    "print ('\\nSelesai! {0} tweets tersimpan di \"{1}\"'.format(tweetCount,fName))"
   ]
  },
  {
   "cell_type": "code",
   "execution_count": 10,
   "metadata": {
    "colab": {
     "base_uri": "https://localhost:8080/"
    },
    "id": "_yWm9y6IfVFV",
    "outputId": "e5984da8-e98b-421f-ad60-0dd08361a4a3"
   },
   "outputs": [
    {
     "name": "stdout",
     "output_type": "stream",
     "text": [
      "{\n",
      " \"created_at\": \"Tue Jun 08 23:57:10 +0000 2021\",\n",
      " \"id\": 1402414429614919680,\n",
      " \"id_str\": \"1402414429614919680\",\n",
      " \"full_text\": \"Hwaaa punya adek satu dah merengek rengek minta #BTSMeal\",\n",
      " \"truncated\": false,\n",
      " \"display_text_range\": [\n",
      "  0,\n",
      "  56\n",
      " ],\n",
      " \"entities\": {\n",
      "  \"hashtags\": [\n",
      "   {\n",
      "    \"text\": \"BTSMeal\",\n",
      "    \"indices\": [\n",
      "     48,\n",
      "     56\n",
      "    ]\n",
      "   }\n",
      "  ],\n",
      "  \"symbols\": [],\n",
      "  \"user_mentions\": [],\n",
      "  \"urls\": []\n",
      " },\n",
      " \"metadata\": {\n",
      "  \"iso_language_code\": \"in\",\n",
      "  \"result_type\": \"recent\"\n",
      " },\n",
      " \"source\": \"<a href=\\\"http://twitter.com/download/android\\\" rel=\\\"nofollow\\\">Twitter for Android</a>\",\n",
      " \"in_reply_to_status_id\": null,\n",
      " \"in_reply_to_status_id_str\": null,\n",
      " \"in_reply_to_user_id\": null,\n",
      " \"in_reply_to_user_id_str\": null,\n",
      " \"in_reply_to_screen_name\": null,\n",
      " \"user\": {\n",
      "  \"id\": 1110133377921769472,\n",
      "  \"id_str\": \"1110133377921769472\",\n",
      "  \"name\": \"adalah aku\",\n",
      "  \"screen_name\": \"pemungutrindumu\",\n",
      "  \"location\": \"Yogyakarta, Indonesia\",\n",
      "  \"description\": \"kadang sambat kadang semangat\",\n",
      "  \"url\": null,\n",
      "  \"entities\": {\n",
      "   \"description\": {\n",
      "    \"urls\": []\n",
      "   }\n",
      "  },\n",
      "  \"protected\": false,\n",
      "  \"followers_count\": 224,\n",
      "  \"friends_count\": 181,\n",
      "  \"listed_count\": 0,\n",
      "  \"created_at\": \"Mon Mar 25 10:56:37 +0000 2019\",\n",
      "  \"favourites_count\": 7907,\n",
      "  \"utc_offset\": null,\n",
      "  \"time_zone\": null,\n",
      "  \"geo_enabled\": false,\n",
      "  \"verified\": false,\n",
      "  \"statuses_count\": 954,\n",
      "  \"lang\": null,\n",
      "  \"contributors_enabled\": false,\n",
      "  \"is_translator\": false,\n",
      "  \"is_translation_enabled\": false,\n",
      "  \"profile_background_color\": \"F5F8FA\",\n",
      "  \"profile_background_image_url\": null,\n",
      "  \"profile_background_image_url_https\": null,\n",
      "  \"profile_background_tile\": false,\n",
      "  \"profile_image_url\": \"http://pbs.twimg.com/profile_images/1393197705426477060/Xe3GWyEV_normal.jpg\",\n",
      "  \"profile_image_url_https\": \"https://pbs.twimg.com/profile_images/1393197705426477060/Xe3GWyEV_normal.jpg\",\n",
      "  \"profile_banner_url\": \"https://pbs.twimg.com/profile_banners/1110133377921769472/1622465923\",\n",
      "  \"profile_link_color\": \"1DA1F2\",\n",
      "  \"profile_sidebar_border_color\": \"C0DEED\",\n",
      "  \"profile_sidebar_fill_color\": \"DDEEF6\",\n",
      "  \"profile_text_color\": \"333333\",\n",
      "  \"profile_use_background_image\": true,\n",
      "  \"has_extended_profile\": false,\n",
      "  \"default_profile\": true,\n",
      "  \"default_profile_image\": false,\n",
      "  \"following\": null,\n",
      "  \"follow_request_sent\": null,\n",
      "  \"notifications\": null,\n",
      "  \"translator_type\": \"none\",\n",
      "  \"withheld_in_countries\": []\n",
      " },\n",
      " \"geo\": null,\n",
      " \"coordinates\": null,\n",
      " \"place\": null,\n",
      " \"contributors\": null,\n",
      " \"is_quote_status\": false,\n",
      " \"retweet_count\": 0,\n",
      " \"favorite_count\": 2,\n",
      " \"favorited\": false,\n",
      " \"retweeted\": false,\n",
      " \"lang\": \"in\"\n",
      "}\n"
     ]
    }
   ],
   "source": [
    "import json\n",
    "with open('21-06-08_Tweets.json', 'r') as f:\n",
    "    text = f.readline()\n",
    "    tweet = json.loads(text)\n",
    "    print(json.dumps(tweet, indent=1))"
   ]
  },
  {
   "cell_type": "code",
   "execution_count": 8,
   "metadata": {
    "id": "XVcE6YP3fVFX"
   },
   "outputs": [],
   "source": [
    "import json\n",
    "import csv\n",
    "\n",
    "csvFile = open('data_convert_baru.csv', 'a',newline='', encoding='utf-8')\n",
    "csvWriter = csv.writer(csvFile)\n",
    "csvWriter.writerow(['created_at', 'id', 'full_text'])\n",
    "\n",
    "for I in open('21-06-07_Tweets.json'):\n",
    "    tw = json.loads(I)\n",
    "    csvWriter.writerow([tw['created_at'], tw['id'], tw['full_text']])\n",
    "csvFile.close()"
   ]
  },
  {
   "cell_type": "code",
   "execution_count": 9,
   "metadata": {},
   "outputs": [
    {
     "data": {
      "text/html": [
       "<div>\n",
       "<style scoped>\n",
       "    .dataframe tbody tr th:only-of-type {\n",
       "        vertical-align: middle;\n",
       "    }\n",
       "\n",
       "    .dataframe tbody tr th {\n",
       "        vertical-align: top;\n",
       "    }\n",
       "\n",
       "    .dataframe thead th {\n",
       "        text-align: right;\n",
       "    }\n",
       "</style>\n",
       "<table border=\"1\" class=\"dataframe\">\n",
       "  <thead>\n",
       "    <tr style=\"text-align: right;\">\n",
       "      <th></th>\n",
       "      <th>created_at</th>\n",
       "      <th>id</th>\n",
       "      <th>full_text</th>\n",
       "    </tr>\n",
       "  </thead>\n",
       "  <tbody>\n",
       "    <tr>\n",
       "      <th>739</th>\n",
       "      <td>Tue Jun 01 06:17:28 +0000 2021</td>\n",
       "      <td>1399611033082228739</td>\n",
       "      <td>@evalez_fr Ana waktos di DKI nganggo First med...</td>\n",
       "    </tr>\n",
       "    <tr>\n",
       "      <th>740</th>\n",
       "      <td>Tue Jun 01 06:16:48 +0000 2021</td>\n",
       "      <td>1399610867084267521</td>\n",
       "      <td>Nah, di tanggal 29 MEI 2021 saya sudah mendapa...</td>\n",
       "    </tr>\n",
       "    <tr>\n",
       "      <th>741</th>\n",
       "      <td>Tue Jun 01 06:05:45 +0000 2021</td>\n",
       "      <td>1399608086185218051</td>\n",
       "      <td>@_mustikaasari  Hi First People. Terima kasih ...</td>\n",
       "    </tr>\n",
       "    <tr>\n",
       "      <th>742</th>\n",
       "      <td>Tue Jun 01 06:03:40 +0000 2021</td>\n",
       "      <td>1399607559946850304</td>\n",
       "      <td>@FirstMediaCares saya pelanggan first media dg...</td>\n",
       "    </tr>\n",
       "    <tr>\n",
       "      <th>743</th>\n",
       "      <td>Tue Jun 01 06:00:44 +0000 2021</td>\n",
       "      <td>1399606820474261506</td>\n",
       "      <td>@donisitumoran12 Hi FIRST People, ada yang bis...</td>\n",
       "    </tr>\n",
       "    <tr>\n",
       "      <th>...</th>\n",
       "      <td>...</td>\n",
       "      <td>...</td>\n",
       "      <td>...</td>\n",
       "    </tr>\n",
       "    <tr>\n",
       "      <th>834</th>\n",
       "      <td>Mon May 31 06:40:06 +0000 2021</td>\n",
       "      <td>1399254339957321728</td>\n",
       "      <td>@FirstMediaCares siang Kak. Sy dpt tawaran har...</td>\n",
       "    </tr>\n",
       "    <tr>\n",
       "      <th>835</th>\n",
       "      <td>Mon May 31 06:02:05 +0000 2021</td>\n",
       "      <td>1399244773047734274</td>\n",
       "      <td>et first media ngeselin bgt</td>\n",
       "    </tr>\n",
       "    <tr>\n",
       "      <th>836</th>\n",
       "      <td>Mon May 31 05:58:02 +0000 2021</td>\n",
       "      <td>1399243755975110659</td>\n",
       "      <td>@FirstMediaCares Tadi udah nelpon, kata mba cs...</td>\n",
       "    </tr>\n",
       "    <tr>\n",
       "      <th>837</th>\n",
       "      <td>Mon May 31 05:43:42 +0000 2021</td>\n",
       "      <td>1399240149469306880</td>\n",
       "      <td>aneh banget dpt telpon dari first media apresi...</td>\n",
       "    </tr>\n",
       "    <tr>\n",
       "      <th>838</th>\n",
       "      <td>Mon May 31 05:41:11 +0000 2021</td>\n",
       "      <td>1399239515294732298</td>\n",
       "      <td>@YChandrawaty Hi  First People. Baik Pak/Bu, T...</td>\n",
       "    </tr>\n",
       "  </tbody>\n",
       "</table>\n",
       "<p>100 rows × 3 columns</p>\n",
       "</div>"
      ],
      "text/plain": [
       "                         created_at                   id  \\\n",
       "739  Tue Jun 01 06:17:28 +0000 2021  1399611033082228739   \n",
       "740  Tue Jun 01 06:16:48 +0000 2021  1399610867084267521   \n",
       "741  Tue Jun 01 06:05:45 +0000 2021  1399608086185218051   \n",
       "742  Tue Jun 01 06:03:40 +0000 2021  1399607559946850304   \n",
       "743  Tue Jun 01 06:00:44 +0000 2021  1399606820474261506   \n",
       "..                              ...                  ...   \n",
       "834  Mon May 31 06:40:06 +0000 2021  1399254339957321728   \n",
       "835  Mon May 31 06:02:05 +0000 2021  1399244773047734274   \n",
       "836  Mon May 31 05:58:02 +0000 2021  1399243755975110659   \n",
       "837  Mon May 31 05:43:42 +0000 2021  1399240149469306880   \n",
       "838  Mon May 31 05:41:11 +0000 2021  1399239515294732298   \n",
       "\n",
       "                                             full_text  \n",
       "739  @evalez_fr Ana waktos di DKI nganggo First med...  \n",
       "740  Nah, di tanggal 29 MEI 2021 saya sudah mendapa...  \n",
       "741  @_mustikaasari  Hi First People. Terima kasih ...  \n",
       "742  @FirstMediaCares saya pelanggan first media dg...  \n",
       "743  @donisitumoran12 Hi FIRST People, ada yang bis...  \n",
       "..                                                 ...  \n",
       "834  @FirstMediaCares siang Kak. Sy dpt tawaran har...  \n",
       "835                        et first media ngeselin bgt  \n",
       "836  @FirstMediaCares Tadi udah nelpon, kata mba cs...  \n",
       "837  aneh banget dpt telpon dari first media apresi...  \n",
       "838  @YChandrawaty Hi  First People. Baik Pak/Bu, T...  \n",
       "\n",
       "[100 rows x 3 columns]"
      ]
     },
     "execution_count": 9,
     "metadata": {},
     "output_type": "execute_result"
    }
   ],
   "source": [
    "import pandas as pd\n",
    "df = pd.read_csv('data_convert_baru.csv', error_bad_lines=False)\n",
    "df.tail(n=100)"
   ]
  },
  {
   "cell_type": "code",
   "execution_count": null,
   "metadata": {},
   "outputs": [],
   "source": []
  }
 ],
 "metadata": {
  "colab": {
   "name": "Test Praktikum.ipynb",
   "provenance": []
  },
  "kernelspec": {
   "display_name": "Python 3",
   "language": "python",
   "name": "python3"
  },
  "language_info": {
   "codemirror_mode": {
    "name": "ipython",
    "version": 3
   },
   "file_extension": ".py",
   "mimetype": "text/x-python",
   "name": "python",
   "nbconvert_exporter": "python",
   "pygments_lexer": "ipython3",
   "version": "3.8.5"
  }
 },
 "nbformat": 4,
 "nbformat_minor": 1
}
