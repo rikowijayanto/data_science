{
  "nbformat": 4,
  "nbformat_minor": 0,
  "metadata": {
    "colab": {
      "name": "Coba Vader dan Kmeans Sederhana.ipynb",
      "provenance": [],
      "authorship_tag": "ABX9TyNqpkYWkeo7oUH9HKQOHj1O"
    },
    "kernelspec": {
      "name": "python3",
      "display_name": "Python 3"
    }
  },
  "cells": [
    {
      "cell_type": "code",
      "metadata": {
        "id": "tmz0znkV8w1Y",
        "colab_type": "code",
        "colab": {}
      },
      "source": [
        "import pandas as pd"
      ],
      "execution_count": null,
      "outputs": []
    },
    {
      "cell_type": "code",
      "metadata": {
        "id": "qDwxrrOG-XDt",
        "colab_type": "code",
        "colab": {}
      },
      "source": [
        "df = pd.read_csv('data.csv')"
      ],
      "execution_count": null,
      "outputs": []
    },
    {
      "cell_type": "code",
      "metadata": {
        "id": "AyGPQBaQ-Y_o",
        "colab_type": "code",
        "colab": {
          "base_uri": "https://localhost:8080/",
          "height": 257
        },
        "outputId": "b2bf0807-3b8e-4d44-b26b-f06a7f979f2d"
      },
      "source": [
        "df"
      ],
      "execution_count": null,
      "outputs": [
        {
          "output_type": "execute_result",
          "data": {
            "text/html": [
              "<div>\n",
              "<style scoped>\n",
              "    .dataframe tbody tr th:only-of-type {\n",
              "        vertical-align: middle;\n",
              "    }\n",
              "\n",
              "    .dataframe tbody tr th {\n",
              "        vertical-align: top;\n",
              "    }\n",
              "\n",
              "    .dataframe thead th {\n",
              "        text-align: right;\n",
              "    }\n",
              "</style>\n",
              "<table border=\"1\" class=\"dataframe\">\n",
              "  <thead>\n",
              "    <tr style=\"text-align: right;\">\n",
              "      <th></th>\n",
              "      <th>tweet</th>\n",
              "    </tr>\n",
              "  </thead>\n",
              "  <tbody>\n",
              "    <tr>\n",
              "      <th>0</th>\n",
              "      <td>@McDonalds the facility that you use was very ...</td>\n",
              "    </tr>\n",
              "    <tr>\n",
              "      <th>1</th>\n",
              "      <td>@McDonalds thank you very much for the nice ha...</td>\n",
              "    </tr>\n",
              "    <tr>\n",
              "      <th>2</th>\n",
              "      <td>@McDonalds &lt;a2323++++&gt; facility is too BAD and...</td>\n",
              "    </tr>\n",
              "    <tr>\n",
              "      <th>3</th>\n",
              "      <td>@McDonalds give u a very BAD BAD rating on fac...</td>\n",
              "    </tr>\n",
              "    <tr>\n",
              "      <th>4</th>\n",
              "      <td>@McDonalds your Facility was so bad</td>\n",
              "    </tr>\n",
              "    <tr>\n",
              "      <th>5</th>\n",
              "      <td>@McDonalds your hamburger is very delicious</td>\n",
              "    </tr>\n",
              "    <tr>\n",
              "      <th>6</th>\n",
              "      <td>@McDonalds Thank you for the NICE Hamburger…...</td>\n",
              "    </tr>\n",
              "  </tbody>\n",
              "</table>\n",
              "</div>"
            ],
            "text/plain": [
              "                                               tweet\n",
              "0  @McDonalds the facility that you use was very ...\n",
              "1  @McDonalds thank you very much for the nice ha...\n",
              "2  @McDonalds <a2323++++> facility is too BAD and...\n",
              "3  @McDonalds give u a very BAD BAD rating on fac...\n",
              "4                @McDonalds your Facility was so bad\n",
              "5        @McDonalds your hamburger is very delicious\n",
              "6    @McDonalds Thank you for the NICE Hamburger…..."
            ]
          },
          "metadata": {
            "tags": []
          },
          "execution_count": 49
        }
      ]
    },
    {
      "cell_type": "code",
      "metadata": {
        "id": "IwK0ZPaS-qS5",
        "colab_type": "code",
        "colab": {}
      },
      "source": [
        "list_data = []\n",
        "\n",
        "for i in df.tweet:\n",
        "  list_data.append(i)"
      ],
      "execution_count": null,
      "outputs": []
    },
    {
      "cell_type": "code",
      "metadata": {
        "id": "12FvMWPBjNjC",
        "colab_type": "code",
        "colab": {
          "base_uri": "https://localhost:8080/",
          "height": 133
        },
        "outputId": "02bf5ecb-594b-4316-df28-e47ac4f1e262"
      },
      "source": [
        "list_data"
      ],
      "execution_count": null,
      "outputs": [
        {
          "output_type": "execute_result",
          "data": {
            "text/plain": [
              "['@McDonalds the facility that you use was very bad and make me so angry',\n",
              " '@McDonalds thank you very much for the nice hamburger',\n",
              " '@McDonalds <a2323++++> facility is too BAD and BAD',\n",
              " '@McDonalds give u a very BAD BAD rating on facility',\n",
              " '@McDonalds your Facility was so bad',\n",
              " '@McDonalds your hamburger is very delicious',\n",
              " '@McDonalds Thank you for the NICE Hamburger…...']"
            ]
          },
          "metadata": {
            "tags": []
          },
          "execution_count": 51
        }
      ]
    },
    {
      "cell_type": "code",
      "metadata": {
        "id": "mTYEFfgTh4zI",
        "colab_type": "code",
        "colab": {
          "base_uri": "https://localhost:8080/",
          "height": 83
        },
        "outputId": "239b57a1-69fe-4a95-d20f-4b5b5e10d772"
      },
      "source": [
        "!pip install scikit-learn"
      ],
      "execution_count": null,
      "outputs": [
        {
          "output_type": "stream",
          "text": [
            "Requirement already satisfied: scikit-learn in /usr/local/lib/python3.6/dist-packages (0.22.2.post1)\n",
            "Requirement already satisfied: scipy>=0.17.0 in /usr/local/lib/python3.6/dist-packages (from scikit-learn) (1.4.1)\n",
            "Requirement already satisfied: joblib>=0.11 in /usr/local/lib/python3.6/dist-packages (from scikit-learn) (0.16.0)\n",
            "Requirement already satisfied: numpy>=1.11.0 in /usr/local/lib/python3.6/dist-packages (from scikit-learn) (1.18.5)\n"
          ],
          "name": "stdout"
        }
      ]
    },
    {
      "cell_type": "code",
      "metadata": {
        "id": "PXaNBlIuiwKC",
        "colab_type": "code",
        "colab": {}
      },
      "source": [
        "import string\n",
        "import re\n",
        "\n",
        "list_data_bersih1 = []\n",
        "\n",
        "pat1 = r'@[A-Za-z0-9_]+' #deleting @mention\n",
        "pat2 = r'https?://[A-Za-z0-9./]+' #delete url\n",
        "pat3 = r'#[A-Za-z0-9]+' #delete hashtag\n",
        "pat4 = r'\\[A-Za-z0-9]+'#delete alphabeth+number\n",
        "pat5 = r'\\<[A-Za-z0-9+_>]+' #deleting error mp\n",
        "pat6 = r'[0-9]+' #delete full of number with more than 1\n",
        "pattern = re.compile('\\W')  #deleting white space\n",
        "\n",
        "combined_pat = r'|'.join((pat1, pat2, pat3,pat4, pat5, pat6)) #masking creating\n",
        "\n",
        "for j in list_data:\n",
        "  dataBersih1 = re.sub(combined_pat,'',str(j)) #filtering process\n",
        "  list_data_bersih1.append(dataBersih1) #store cleaning data"
      ],
      "execution_count": null,
      "outputs": []
    },
    {
      "cell_type": "code",
      "metadata": {
        "id": "CrXaeDxXjTBP",
        "colab_type": "code",
        "colab": {
          "base_uri": "https://localhost:8080/",
          "height": 133
        },
        "outputId": "8ad7637b-e954-47be-e141-53181ef2530a"
      },
      "source": [
        "list_data_bersih1"
      ],
      "execution_count": null,
      "outputs": [
        {
          "output_type": "execute_result",
          "data": {
            "text/plain": [
              "[' the facility that you use was very bad and make me so angry',\n",
              " ' thank you very much for the nice hamburger',\n",
              " '  facility is too BAD and BAD',\n",
              " ' give u a very BAD BAD rating on facility',\n",
              " ' your Facility was so bad',\n",
              " ' your hamburger is very delicious',\n",
              " ' Thank you for the NICE Hamburger…...']"
            ]
          },
          "metadata": {
            "tags": []
          },
          "execution_count": 54
        }
      ]
    },
    {
      "cell_type": "code",
      "metadata": {
        "id": "Y1NUHq6PjUzZ",
        "colab_type": "code",
        "colab": {
          "base_uri": "https://localhost:8080/",
          "height": 133
        },
        "outputId": "09f93365-98f9-4d0c-8199-460fd6bcdae1"
      },
      "source": [
        "list_data_bersih = []\n",
        "\n",
        "for k in list_data_bersih1: \n",
        "  k = k.lower()  \n",
        "  dataBersih2 = re.sub(pattern,' ',str(k)) #menghapus karakter non alphanumeric\n",
        "  dataBersih3 = re.sub(r'\\b\\w{1,1}\\b', '', dataBersih2) #mengapus karakter 1 digit\n",
        "  list_data_bersih.append(dataBersih3) #menyimpan dalam list\n",
        "\n",
        "list_data_bersih"
      ],
      "execution_count": null,
      "outputs": [
        {
          "output_type": "execute_result",
          "data": {
            "text/plain": [
              "[' the facility that you use was very bad and make me so angry',\n",
              " ' thank you very much for the nice hamburger',\n",
              " '  facility is too bad and bad',\n",
              " ' give   very bad bad rating on facility',\n",
              " ' your facility was so bad',\n",
              " ' your hamburger is very delicious',\n",
              " ' thank you for the nice hamburger    ']"
            ]
          },
          "metadata": {
            "tags": []
          },
          "execution_count": 55
        }
      ]
    },
    {
      "cell_type": "code",
      "metadata": {
        "id": "3f3Dpl-Pjh1f",
        "colab_type": "code",
        "colab": {}
      },
      "source": [
        "#vectorization\n",
        "from sklearn.feature_extraction.text import TfidfVectorizer\n",
        "vect = TfidfVectorizer(min_df=0.005, max_df=0.99, use_idf=True, ngram_range=(1,3), smooth_idf=False, norm='l2')"
      ],
      "execution_count": null,
      "outputs": []
    },
    {
      "cell_type": "code",
      "metadata": {
        "id": "kxtLisHVjtsv",
        "colab_type": "code",
        "colab": {}
      },
      "source": [
        "X = vect.fit_transform(list_data_bersih)"
      ],
      "execution_count": null,
      "outputs": []
    },
    {
      "cell_type": "code",
      "metadata": {
        "id": "KpsXbXwWkWtL",
        "colab_type": "code",
        "colab": {
          "base_uri": "https://localhost:8080/",
          "height": 457
        },
        "outputId": "223fca9f-35c8-45e8-c85d-34843860ff22"
      },
      "source": [
        "Z = pd.DataFrame(X.toarray(), columns=vect.get_feature_names(), index=['tweet %d' %i for i in range (1, X.shape[0]+1)])\n",
        "Z"
      ],
      "execution_count": null,
      "outputs": [
        {
          "output_type": "execute_result",
          "data": {
            "text/html": [
              "<div>\n",
              "<style scoped>\n",
              "    .dataframe tbody tr th:only-of-type {\n",
              "        vertical-align: middle;\n",
              "    }\n",
              "\n",
              "    .dataframe tbody tr th {\n",
              "        vertical-align: top;\n",
              "    }\n",
              "\n",
              "    .dataframe thead th {\n",
              "        text-align: right;\n",
              "    }\n",
              "</style>\n",
              "<table border=\"1\" class=\"dataframe\">\n",
              "  <thead>\n",
              "    <tr style=\"text-align: right;\">\n",
              "      <th></th>\n",
              "      <th>and</th>\n",
              "      <th>and bad</th>\n",
              "      <th>and make</th>\n",
              "      <th>and make me</th>\n",
              "      <th>angry</th>\n",
              "      <th>bad</th>\n",
              "      <th>bad and</th>\n",
              "      <th>bad and bad</th>\n",
              "      <th>bad and make</th>\n",
              "      <th>bad bad</th>\n",
              "      <th>bad bad rating</th>\n",
              "      <th>bad rating</th>\n",
              "      <th>bad rating on</th>\n",
              "      <th>delicious</th>\n",
              "      <th>facility</th>\n",
              "      <th>facility is</th>\n",
              "      <th>facility is too</th>\n",
              "      <th>facility that</th>\n",
              "      <th>facility that you</th>\n",
              "      <th>facility was</th>\n",
              "      <th>facility was so</th>\n",
              "      <th>for</th>\n",
              "      <th>for the</th>\n",
              "      <th>for the nice</th>\n",
              "      <th>give</th>\n",
              "      <th>give very</th>\n",
              "      <th>give very bad</th>\n",
              "      <th>hamburger</th>\n",
              "      <th>hamburger is</th>\n",
              "      <th>hamburger is very</th>\n",
              "      <th>is</th>\n",
              "      <th>is too</th>\n",
              "      <th>is too bad</th>\n",
              "      <th>is very</th>\n",
              "      <th>is very delicious</th>\n",
              "      <th>make</th>\n",
              "      <th>make me</th>\n",
              "      <th>make me so</th>\n",
              "      <th>me</th>\n",
              "      <th>me so</th>\n",
              "      <th>...</th>\n",
              "      <th>thank you for</th>\n",
              "      <th>thank you very</th>\n",
              "      <th>that</th>\n",
              "      <th>that you</th>\n",
              "      <th>that you use</th>\n",
              "      <th>the</th>\n",
              "      <th>the facility</th>\n",
              "      <th>the facility that</th>\n",
              "      <th>the nice</th>\n",
              "      <th>the nice hamburger</th>\n",
              "      <th>too</th>\n",
              "      <th>too bad</th>\n",
              "      <th>too bad and</th>\n",
              "      <th>use</th>\n",
              "      <th>use was</th>\n",
              "      <th>use was very</th>\n",
              "      <th>very</th>\n",
              "      <th>very bad</th>\n",
              "      <th>very bad and</th>\n",
              "      <th>very bad bad</th>\n",
              "      <th>very delicious</th>\n",
              "      <th>very much</th>\n",
              "      <th>very much for</th>\n",
              "      <th>was</th>\n",
              "      <th>was so</th>\n",
              "      <th>was so bad</th>\n",
              "      <th>was very</th>\n",
              "      <th>was very bad</th>\n",
              "      <th>you</th>\n",
              "      <th>you for</th>\n",
              "      <th>you for the</th>\n",
              "      <th>you use</th>\n",
              "      <th>you use was</th>\n",
              "      <th>you very</th>\n",
              "      <th>you very much</th>\n",
              "      <th>your</th>\n",
              "      <th>your facility</th>\n",
              "      <th>your facility was</th>\n",
              "      <th>your hamburger</th>\n",
              "      <th>your hamburger is</th>\n",
              "    </tr>\n",
              "  </thead>\n",
              "  <tbody>\n",
              "    <tr>\n",
              "      <th>tweet 1</th>\n",
              "      <td>0.138351</td>\n",
              "      <td>0.00000</td>\n",
              "      <td>0.18092</td>\n",
              "      <td>0.18092</td>\n",
              "      <td>0.18092</td>\n",
              "      <td>0.095782</td>\n",
              "      <td>0.138351</td>\n",
              "      <td>0.00000</td>\n",
              "      <td>0.18092</td>\n",
              "      <td>0.000000</td>\n",
              "      <td>0.000000</td>\n",
              "      <td>0.000000</td>\n",
              "      <td>0.000000</td>\n",
              "      <td>0.000000</td>\n",
              "      <td>0.095782</td>\n",
              "      <td>0.00000</td>\n",
              "      <td>0.00000</td>\n",
              "      <td>0.18092</td>\n",
              "      <td>0.18092</td>\n",
              "      <td>0.00000</td>\n",
              "      <td>0.00000</td>\n",
              "      <td>0.000000</td>\n",
              "      <td>0.000000</td>\n",
              "      <td>0.000000</td>\n",
              "      <td>0.000000</td>\n",
              "      <td>0.000000</td>\n",
              "      <td>0.000000</td>\n",
              "      <td>0.000000</td>\n",
              "      <td>0.000000</td>\n",
              "      <td>0.000000</td>\n",
              "      <td>0.000000</td>\n",
              "      <td>0.00000</td>\n",
              "      <td>0.00000</td>\n",
              "      <td>0.000000</td>\n",
              "      <td>0.000000</td>\n",
              "      <td>0.18092</td>\n",
              "      <td>0.18092</td>\n",
              "      <td>0.18092</td>\n",
              "      <td>0.18092</td>\n",
              "      <td>0.18092</td>\n",
              "      <td>...</td>\n",
              "      <td>0.000000</td>\n",
              "      <td>0.000000</td>\n",
              "      <td>0.18092</td>\n",
              "      <td>0.18092</td>\n",
              "      <td>0.18092</td>\n",
              "      <td>0.113450</td>\n",
              "      <td>0.18092</td>\n",
              "      <td>0.18092</td>\n",
              "      <td>0.000000</td>\n",
              "      <td>0.000000</td>\n",
              "      <td>0.00000</td>\n",
              "      <td>0.00000</td>\n",
              "      <td>0.00000</td>\n",
              "      <td>0.18092</td>\n",
              "      <td>0.18092</td>\n",
              "      <td>0.18092</td>\n",
              "      <td>0.095782</td>\n",
              "      <td>0.138351</td>\n",
              "      <td>0.18092</td>\n",
              "      <td>0.000000</td>\n",
              "      <td>0.000000</td>\n",
              "      <td>0.000000</td>\n",
              "      <td>0.000000</td>\n",
              "      <td>0.138351</td>\n",
              "      <td>0.00000</td>\n",
              "      <td>0.00000</td>\n",
              "      <td>0.18092</td>\n",
              "      <td>0.18092</td>\n",
              "      <td>0.113450</td>\n",
              "      <td>0.000000</td>\n",
              "      <td>0.000000</td>\n",
              "      <td>0.18092</td>\n",
              "      <td>0.18092</td>\n",
              "      <td>0.000000</td>\n",
              "      <td>0.000000</td>\n",
              "      <td>0.000000</td>\n",
              "      <td>0.00000</td>\n",
              "      <td>0.00000</td>\n",
              "      <td>0.000000</td>\n",
              "      <td>0.000000</td>\n",
              "    </tr>\n",
              "    <tr>\n",
              "      <th>tweet 2</th>\n",
              "      <td>0.000000</td>\n",
              "      <td>0.00000</td>\n",
              "      <td>0.00000</td>\n",
              "      <td>0.00000</td>\n",
              "      <td>0.00000</td>\n",
              "      <td>0.000000</td>\n",
              "      <td>0.000000</td>\n",
              "      <td>0.00000</td>\n",
              "      <td>0.00000</td>\n",
              "      <td>0.000000</td>\n",
              "      <td>0.000000</td>\n",
              "      <td>0.000000</td>\n",
              "      <td>0.000000</td>\n",
              "      <td>0.000000</td>\n",
              "      <td>0.000000</td>\n",
              "      <td>0.00000</td>\n",
              "      <td>0.00000</td>\n",
              "      <td>0.00000</td>\n",
              "      <td>0.00000</td>\n",
              "      <td>0.00000</td>\n",
              "      <td>0.00000</td>\n",
              "      <td>0.199296</td>\n",
              "      <td>0.199296</td>\n",
              "      <td>0.199296</td>\n",
              "      <td>0.000000</td>\n",
              "      <td>0.000000</td>\n",
              "      <td>0.000000</td>\n",
              "      <td>0.163426</td>\n",
              "      <td>0.000000</td>\n",
              "      <td>0.000000</td>\n",
              "      <td>0.000000</td>\n",
              "      <td>0.00000</td>\n",
              "      <td>0.00000</td>\n",
              "      <td>0.000000</td>\n",
              "      <td>0.000000</td>\n",
              "      <td>0.00000</td>\n",
              "      <td>0.00000</td>\n",
              "      <td>0.00000</td>\n",
              "      <td>0.00000</td>\n",
              "      <td>0.00000</td>\n",
              "      <td>...</td>\n",
              "      <td>0.000000</td>\n",
              "      <td>0.260617</td>\n",
              "      <td>0.00000</td>\n",
              "      <td>0.00000</td>\n",
              "      <td>0.00000</td>\n",
              "      <td>0.163426</td>\n",
              "      <td>0.00000</td>\n",
              "      <td>0.00000</td>\n",
              "      <td>0.199296</td>\n",
              "      <td>0.199296</td>\n",
              "      <td>0.00000</td>\n",
              "      <td>0.00000</td>\n",
              "      <td>0.00000</td>\n",
              "      <td>0.00000</td>\n",
              "      <td>0.00000</td>\n",
              "      <td>0.00000</td>\n",
              "      <td>0.137975</td>\n",
              "      <td>0.000000</td>\n",
              "      <td>0.00000</td>\n",
              "      <td>0.000000</td>\n",
              "      <td>0.000000</td>\n",
              "      <td>0.260617</td>\n",
              "      <td>0.260617</td>\n",
              "      <td>0.000000</td>\n",
              "      <td>0.00000</td>\n",
              "      <td>0.00000</td>\n",
              "      <td>0.00000</td>\n",
              "      <td>0.00000</td>\n",
              "      <td>0.163426</td>\n",
              "      <td>0.000000</td>\n",
              "      <td>0.000000</td>\n",
              "      <td>0.00000</td>\n",
              "      <td>0.00000</td>\n",
              "      <td>0.260617</td>\n",
              "      <td>0.260617</td>\n",
              "      <td>0.000000</td>\n",
              "      <td>0.00000</td>\n",
              "      <td>0.00000</td>\n",
              "      <td>0.000000</td>\n",
              "      <td>0.000000</td>\n",
              "    </tr>\n",
              "    <tr>\n",
              "      <th>tweet 3</th>\n",
              "      <td>0.219334</td>\n",
              "      <td>0.28682</td>\n",
              "      <td>0.00000</td>\n",
              "      <td>0.00000</td>\n",
              "      <td>0.00000</td>\n",
              "      <td>0.303695</td>\n",
              "      <td>0.219334</td>\n",
              "      <td>0.28682</td>\n",
              "      <td>0.00000</td>\n",
              "      <td>0.000000</td>\n",
              "      <td>0.000000</td>\n",
              "      <td>0.000000</td>\n",
              "      <td>0.000000</td>\n",
              "      <td>0.000000</td>\n",
              "      <td>0.151847</td>\n",
              "      <td>0.28682</td>\n",
              "      <td>0.28682</td>\n",
              "      <td>0.00000</td>\n",
              "      <td>0.00000</td>\n",
              "      <td>0.00000</td>\n",
              "      <td>0.00000</td>\n",
              "      <td>0.000000</td>\n",
              "      <td>0.000000</td>\n",
              "      <td>0.000000</td>\n",
              "      <td>0.000000</td>\n",
              "      <td>0.000000</td>\n",
              "      <td>0.000000</td>\n",
              "      <td>0.000000</td>\n",
              "      <td>0.000000</td>\n",
              "      <td>0.000000</td>\n",
              "      <td>0.219334</td>\n",
              "      <td>0.28682</td>\n",
              "      <td>0.28682</td>\n",
              "      <td>0.000000</td>\n",
              "      <td>0.000000</td>\n",
              "      <td>0.00000</td>\n",
              "      <td>0.00000</td>\n",
              "      <td>0.00000</td>\n",
              "      <td>0.00000</td>\n",
              "      <td>0.00000</td>\n",
              "      <td>...</td>\n",
              "      <td>0.000000</td>\n",
              "      <td>0.000000</td>\n",
              "      <td>0.00000</td>\n",
              "      <td>0.00000</td>\n",
              "      <td>0.00000</td>\n",
              "      <td>0.000000</td>\n",
              "      <td>0.00000</td>\n",
              "      <td>0.00000</td>\n",
              "      <td>0.000000</td>\n",
              "      <td>0.000000</td>\n",
              "      <td>0.28682</td>\n",
              "      <td>0.28682</td>\n",
              "      <td>0.28682</td>\n",
              "      <td>0.00000</td>\n",
              "      <td>0.00000</td>\n",
              "      <td>0.00000</td>\n",
              "      <td>0.000000</td>\n",
              "      <td>0.000000</td>\n",
              "      <td>0.00000</td>\n",
              "      <td>0.000000</td>\n",
              "      <td>0.000000</td>\n",
              "      <td>0.000000</td>\n",
              "      <td>0.000000</td>\n",
              "      <td>0.000000</td>\n",
              "      <td>0.00000</td>\n",
              "      <td>0.00000</td>\n",
              "      <td>0.00000</td>\n",
              "      <td>0.00000</td>\n",
              "      <td>0.000000</td>\n",
              "      <td>0.000000</td>\n",
              "      <td>0.000000</td>\n",
              "      <td>0.00000</td>\n",
              "      <td>0.00000</td>\n",
              "      <td>0.000000</td>\n",
              "      <td>0.000000</td>\n",
              "      <td>0.000000</td>\n",
              "      <td>0.00000</td>\n",
              "      <td>0.00000</td>\n",
              "      <td>0.000000</td>\n",
              "      <td>0.000000</td>\n",
              "    </tr>\n",
              "    <tr>\n",
              "      <th>tweet 4</th>\n",
              "      <td>0.000000</td>\n",
              "      <td>0.00000</td>\n",
              "      <td>0.00000</td>\n",
              "      <td>0.00000</td>\n",
              "      <td>0.00000</td>\n",
              "      <td>0.270993</td>\n",
              "      <td>0.000000</td>\n",
              "      <td>0.00000</td>\n",
              "      <td>0.00000</td>\n",
              "      <td>0.255936</td>\n",
              "      <td>0.255936</td>\n",
              "      <td>0.255936</td>\n",
              "      <td>0.255936</td>\n",
              "      <td>0.000000</td>\n",
              "      <td>0.135497</td>\n",
              "      <td>0.00000</td>\n",
              "      <td>0.00000</td>\n",
              "      <td>0.00000</td>\n",
              "      <td>0.00000</td>\n",
              "      <td>0.00000</td>\n",
              "      <td>0.00000</td>\n",
              "      <td>0.000000</td>\n",
              "      <td>0.000000</td>\n",
              "      <td>0.000000</td>\n",
              "      <td>0.255936</td>\n",
              "      <td>0.255936</td>\n",
              "      <td>0.255936</td>\n",
              "      <td>0.000000</td>\n",
              "      <td>0.000000</td>\n",
              "      <td>0.000000</td>\n",
              "      <td>0.000000</td>\n",
              "      <td>0.00000</td>\n",
              "      <td>0.00000</td>\n",
              "      <td>0.000000</td>\n",
              "      <td>0.000000</td>\n",
              "      <td>0.00000</td>\n",
              "      <td>0.00000</td>\n",
              "      <td>0.00000</td>\n",
              "      <td>0.00000</td>\n",
              "      <td>0.00000</td>\n",
              "      <td>...</td>\n",
              "      <td>0.000000</td>\n",
              "      <td>0.000000</td>\n",
              "      <td>0.00000</td>\n",
              "      <td>0.00000</td>\n",
              "      <td>0.00000</td>\n",
              "      <td>0.000000</td>\n",
              "      <td>0.00000</td>\n",
              "      <td>0.00000</td>\n",
              "      <td>0.000000</td>\n",
              "      <td>0.000000</td>\n",
              "      <td>0.00000</td>\n",
              "      <td>0.00000</td>\n",
              "      <td>0.00000</td>\n",
              "      <td>0.00000</td>\n",
              "      <td>0.00000</td>\n",
              "      <td>0.00000</td>\n",
              "      <td>0.135497</td>\n",
              "      <td>0.195716</td>\n",
              "      <td>0.00000</td>\n",
              "      <td>0.255936</td>\n",
              "      <td>0.000000</td>\n",
              "      <td>0.000000</td>\n",
              "      <td>0.000000</td>\n",
              "      <td>0.000000</td>\n",
              "      <td>0.00000</td>\n",
              "      <td>0.00000</td>\n",
              "      <td>0.00000</td>\n",
              "      <td>0.00000</td>\n",
              "      <td>0.000000</td>\n",
              "      <td>0.000000</td>\n",
              "      <td>0.000000</td>\n",
              "      <td>0.00000</td>\n",
              "      <td>0.00000</td>\n",
              "      <td>0.000000</td>\n",
              "      <td>0.000000</td>\n",
              "      <td>0.000000</td>\n",
              "      <td>0.00000</td>\n",
              "      <td>0.00000</td>\n",
              "      <td>0.000000</td>\n",
              "      <td>0.000000</td>\n",
              "    </tr>\n",
              "    <tr>\n",
              "      <th>tweet 5</th>\n",
              "      <td>0.000000</td>\n",
              "      <td>0.00000</td>\n",
              "      <td>0.00000</td>\n",
              "      <td>0.00000</td>\n",
              "      <td>0.00000</td>\n",
              "      <td>0.173464</td>\n",
              "      <td>0.000000</td>\n",
              "      <td>0.00000</td>\n",
              "      <td>0.00000</td>\n",
              "      <td>0.000000</td>\n",
              "      <td>0.000000</td>\n",
              "      <td>0.000000</td>\n",
              "      <td>0.000000</td>\n",
              "      <td>0.000000</td>\n",
              "      <td>0.173464</td>\n",
              "      <td>0.00000</td>\n",
              "      <td>0.00000</td>\n",
              "      <td>0.00000</td>\n",
              "      <td>0.00000</td>\n",
              "      <td>0.32765</td>\n",
              "      <td>0.32765</td>\n",
              "      <td>0.000000</td>\n",
              "      <td>0.000000</td>\n",
              "      <td>0.000000</td>\n",
              "      <td>0.000000</td>\n",
              "      <td>0.000000</td>\n",
              "      <td>0.000000</td>\n",
              "      <td>0.000000</td>\n",
              "      <td>0.000000</td>\n",
              "      <td>0.000000</td>\n",
              "      <td>0.000000</td>\n",
              "      <td>0.00000</td>\n",
              "      <td>0.00000</td>\n",
              "      <td>0.000000</td>\n",
              "      <td>0.000000</td>\n",
              "      <td>0.00000</td>\n",
              "      <td>0.00000</td>\n",
              "      <td>0.00000</td>\n",
              "      <td>0.00000</td>\n",
              "      <td>0.00000</td>\n",
              "      <td>...</td>\n",
              "      <td>0.000000</td>\n",
              "      <td>0.000000</td>\n",
              "      <td>0.00000</td>\n",
              "      <td>0.00000</td>\n",
              "      <td>0.00000</td>\n",
              "      <td>0.000000</td>\n",
              "      <td>0.00000</td>\n",
              "      <td>0.00000</td>\n",
              "      <td>0.000000</td>\n",
              "      <td>0.000000</td>\n",
              "      <td>0.00000</td>\n",
              "      <td>0.00000</td>\n",
              "      <td>0.00000</td>\n",
              "      <td>0.00000</td>\n",
              "      <td>0.00000</td>\n",
              "      <td>0.00000</td>\n",
              "      <td>0.000000</td>\n",
              "      <td>0.000000</td>\n",
              "      <td>0.00000</td>\n",
              "      <td>0.000000</td>\n",
              "      <td>0.000000</td>\n",
              "      <td>0.000000</td>\n",
              "      <td>0.000000</td>\n",
              "      <td>0.250557</td>\n",
              "      <td>0.32765</td>\n",
              "      <td>0.32765</td>\n",
              "      <td>0.00000</td>\n",
              "      <td>0.00000</td>\n",
              "      <td>0.000000</td>\n",
              "      <td>0.000000</td>\n",
              "      <td>0.000000</td>\n",
              "      <td>0.00000</td>\n",
              "      <td>0.00000</td>\n",
              "      <td>0.000000</td>\n",
              "      <td>0.000000</td>\n",
              "      <td>0.250557</td>\n",
              "      <td>0.32765</td>\n",
              "      <td>0.32765</td>\n",
              "      <td>0.000000</td>\n",
              "      <td>0.000000</td>\n",
              "    </tr>\n",
              "    <tr>\n",
              "      <th>tweet 6</th>\n",
              "      <td>0.000000</td>\n",
              "      <td>0.00000</td>\n",
              "      <td>0.00000</td>\n",
              "      <td>0.00000</td>\n",
              "      <td>0.00000</td>\n",
              "      <td>0.000000</td>\n",
              "      <td>0.000000</td>\n",
              "      <td>0.00000</td>\n",
              "      <td>0.00000</td>\n",
              "      <td>0.000000</td>\n",
              "      <td>0.000000</td>\n",
              "      <td>0.000000</td>\n",
              "      <td>0.000000</td>\n",
              "      <td>0.318739</td>\n",
              "      <td>0.000000</td>\n",
              "      <td>0.00000</td>\n",
              "      <td>0.00000</td>\n",
              "      <td>0.00000</td>\n",
              "      <td>0.00000</td>\n",
              "      <td>0.00000</td>\n",
              "      <td>0.00000</td>\n",
              "      <td>0.000000</td>\n",
              "      <td>0.000000</td>\n",
              "      <td>0.000000</td>\n",
              "      <td>0.000000</td>\n",
              "      <td>0.000000</td>\n",
              "      <td>0.000000</td>\n",
              "      <td>0.199872</td>\n",
              "      <td>0.318739</td>\n",
              "      <td>0.318739</td>\n",
              "      <td>0.243742</td>\n",
              "      <td>0.00000</td>\n",
              "      <td>0.00000</td>\n",
              "      <td>0.318739</td>\n",
              "      <td>0.318739</td>\n",
              "      <td>0.00000</td>\n",
              "      <td>0.00000</td>\n",
              "      <td>0.00000</td>\n",
              "      <td>0.00000</td>\n",
              "      <td>0.00000</td>\n",
              "      <td>...</td>\n",
              "      <td>0.000000</td>\n",
              "      <td>0.000000</td>\n",
              "      <td>0.00000</td>\n",
              "      <td>0.00000</td>\n",
              "      <td>0.00000</td>\n",
              "      <td>0.000000</td>\n",
              "      <td>0.00000</td>\n",
              "      <td>0.00000</td>\n",
              "      <td>0.000000</td>\n",
              "      <td>0.000000</td>\n",
              "      <td>0.00000</td>\n",
              "      <td>0.00000</td>\n",
              "      <td>0.00000</td>\n",
              "      <td>0.00000</td>\n",
              "      <td>0.00000</td>\n",
              "      <td>0.00000</td>\n",
              "      <td>0.168746</td>\n",
              "      <td>0.000000</td>\n",
              "      <td>0.00000</td>\n",
              "      <td>0.000000</td>\n",
              "      <td>0.318739</td>\n",
              "      <td>0.000000</td>\n",
              "      <td>0.000000</td>\n",
              "      <td>0.000000</td>\n",
              "      <td>0.00000</td>\n",
              "      <td>0.00000</td>\n",
              "      <td>0.00000</td>\n",
              "      <td>0.00000</td>\n",
              "      <td>0.000000</td>\n",
              "      <td>0.000000</td>\n",
              "      <td>0.000000</td>\n",
              "      <td>0.00000</td>\n",
              "      <td>0.00000</td>\n",
              "      <td>0.000000</td>\n",
              "      <td>0.000000</td>\n",
              "      <td>0.243742</td>\n",
              "      <td>0.00000</td>\n",
              "      <td>0.00000</td>\n",
              "      <td>0.318739</td>\n",
              "      <td>0.318739</td>\n",
              "    </tr>\n",
              "    <tr>\n",
              "      <th>tweet 7</th>\n",
              "      <td>0.000000</td>\n",
              "      <td>0.00000</td>\n",
              "      <td>0.00000</td>\n",
              "      <td>0.00000</td>\n",
              "      <td>0.00000</td>\n",
              "      <td>0.000000</td>\n",
              "      <td>0.000000</td>\n",
              "      <td>0.00000</td>\n",
              "      <td>0.00000</td>\n",
              "      <td>0.000000</td>\n",
              "      <td>0.000000</td>\n",
              "      <td>0.000000</td>\n",
              "      <td>0.000000</td>\n",
              "      <td>0.000000</td>\n",
              "      <td>0.000000</td>\n",
              "      <td>0.00000</td>\n",
              "      <td>0.00000</td>\n",
              "      <td>0.00000</td>\n",
              "      <td>0.00000</td>\n",
              "      <td>0.00000</td>\n",
              "      <td>0.00000</td>\n",
              "      <td>0.248856</td>\n",
              "      <td>0.248856</td>\n",
              "      <td>0.248856</td>\n",
              "      <td>0.000000</td>\n",
              "      <td>0.000000</td>\n",
              "      <td>0.000000</td>\n",
              "      <td>0.204066</td>\n",
              "      <td>0.000000</td>\n",
              "      <td>0.000000</td>\n",
              "      <td>0.000000</td>\n",
              "      <td>0.00000</td>\n",
              "      <td>0.00000</td>\n",
              "      <td>0.000000</td>\n",
              "      <td>0.000000</td>\n",
              "      <td>0.00000</td>\n",
              "      <td>0.00000</td>\n",
              "      <td>0.00000</td>\n",
              "      <td>0.00000</td>\n",
              "      <td>0.00000</td>\n",
              "      <td>...</td>\n",
              "      <td>0.325426</td>\n",
              "      <td>0.000000</td>\n",
              "      <td>0.00000</td>\n",
              "      <td>0.00000</td>\n",
              "      <td>0.00000</td>\n",
              "      <td>0.204066</td>\n",
              "      <td>0.00000</td>\n",
              "      <td>0.00000</td>\n",
              "      <td>0.248856</td>\n",
              "      <td>0.248856</td>\n",
              "      <td>0.00000</td>\n",
              "      <td>0.00000</td>\n",
              "      <td>0.00000</td>\n",
              "      <td>0.00000</td>\n",
              "      <td>0.00000</td>\n",
              "      <td>0.00000</td>\n",
              "      <td>0.000000</td>\n",
              "      <td>0.000000</td>\n",
              "      <td>0.00000</td>\n",
              "      <td>0.000000</td>\n",
              "      <td>0.000000</td>\n",
              "      <td>0.000000</td>\n",
              "      <td>0.000000</td>\n",
              "      <td>0.000000</td>\n",
              "      <td>0.00000</td>\n",
              "      <td>0.00000</td>\n",
              "      <td>0.00000</td>\n",
              "      <td>0.00000</td>\n",
              "      <td>0.204066</td>\n",
              "      <td>0.325426</td>\n",
              "      <td>0.325426</td>\n",
              "      <td>0.00000</td>\n",
              "      <td>0.00000</td>\n",
              "      <td>0.000000</td>\n",
              "      <td>0.000000</td>\n",
              "      <td>0.000000</td>\n",
              "      <td>0.00000</td>\n",
              "      <td>0.00000</td>\n",
              "      <td>0.000000</td>\n",
              "      <td>0.000000</td>\n",
              "    </tr>\n",
              "  </tbody>\n",
              "</table>\n",
              "<p>7 rows × 96 columns</p>\n",
              "</div>"
            ],
            "text/plain": [
              "              and  and bad  ...  your hamburger  your hamburger is\n",
              "tweet 1  0.138351  0.00000  ...        0.000000           0.000000\n",
              "tweet 2  0.000000  0.00000  ...        0.000000           0.000000\n",
              "tweet 3  0.219334  0.28682  ...        0.000000           0.000000\n",
              "tweet 4  0.000000  0.00000  ...        0.000000           0.000000\n",
              "tweet 5  0.000000  0.00000  ...        0.000000           0.000000\n",
              "tweet 6  0.000000  0.00000  ...        0.318739           0.318739\n",
              "tweet 7  0.000000  0.00000  ...        0.000000           0.000000\n",
              "\n",
              "[7 rows x 96 columns]"
            ]
          },
          "metadata": {
            "tags": []
          },
          "execution_count": 58
        }
      ]
    },
    {
      "cell_type": "code",
      "metadata": {
        "id": "_xnbJq7TnnaW",
        "colab_type": "code",
        "colab": {}
      },
      "source": [
        "from sklearn.decomposition import TruncatedSVD\n",
        "lsa = TruncatedSVD(n_components=6, algorithm='randomized')\n",
        "lsa_matrix = lsa.fit_transform(X)"
      ],
      "execution_count": null,
      "outputs": []
    },
    {
      "cell_type": "code",
      "metadata": {
        "id": "Ymk7dfBpoAN1",
        "colab_type": "code",
        "colab": {
          "base_uri": "https://localhost:8080/",
          "height": 257
        },
        "outputId": "d989b77d-fe98-4c94-aa60-e5d9b67309dc"
      },
      "source": [
        "import numpy as np\n",
        "Y = pd.DataFrame(np.array(lsa_matrix.tolist()), columns=['PC %d' %i for i in range(1,7)], index=['tweet %d' %i for i in range (1, X.shape[0]+1)])\n",
        "Y"
      ],
      "execution_count": null,
      "outputs": [
        {
          "output_type": "execute_result",
          "data": {
            "text/html": [
              "<div>\n",
              "<style scoped>\n",
              "    .dataframe tbody tr th:only-of-type {\n",
              "        vertical-align: middle;\n",
              "    }\n",
              "\n",
              "    .dataframe tbody tr th {\n",
              "        vertical-align: top;\n",
              "    }\n",
              "\n",
              "    .dataframe thead th {\n",
              "        text-align: right;\n",
              "    }\n",
              "</style>\n",
              "<table border=\"1\" class=\"dataframe\">\n",
              "  <thead>\n",
              "    <tr style=\"text-align: right;\">\n",
              "      <th></th>\n",
              "      <th>PC 1</th>\n",
              "      <th>PC 2</th>\n",
              "      <th>PC 3</th>\n",
              "      <th>PC 4</th>\n",
              "      <th>PC 5</th>\n",
              "      <th>PC 6</th>\n",
              "    </tr>\n",
              "  </thead>\n",
              "  <tbody>\n",
              "    <tr>\n",
              "      <th>tweet 1</th>\n",
              "      <td>0.190795</td>\n",
              "      <td>0.522172</td>\n",
              "      <td>-0.320986</td>\n",
              "      <td>-0.402427</td>\n",
              "      <td>0.317022</td>\n",
              "      <td>0.570479</td>\n",
              "    </tr>\n",
              "    <tr>\n",
              "      <th>tweet 2</th>\n",
              "      <td>0.863433</td>\n",
              "      <td>-0.147772</td>\n",
              "      <td>-0.037959</td>\n",
              "      <td>0.022368</td>\n",
              "      <td>-0.029652</td>\n",
              "      <td>-0.052528</td>\n",
              "    </tr>\n",
              "    <tr>\n",
              "      <th>tweet 3</th>\n",
              "      <td>0.076887</td>\n",
              "      <td>0.584450</td>\n",
              "      <td>-0.045046</td>\n",
              "      <td>0.322647</td>\n",
              "      <td>0.557497</td>\n",
              "      <td>-0.485339</td>\n",
              "    </tr>\n",
              "    <tr>\n",
              "      <th>tweet 4</th>\n",
              "      <td>0.085014</td>\n",
              "      <td>0.510598</td>\n",
              "      <td>-0.267379</td>\n",
              "      <td>0.571403</td>\n",
              "      <td>-0.543106</td>\n",
              "      <td>0.197046</td>\n",
              "    </tr>\n",
              "    <tr>\n",
              "      <th>tweet 5</th>\n",
              "      <td>0.074123</td>\n",
              "      <td>0.541002</td>\n",
              "      <td>0.179085</td>\n",
              "      <td>-0.566796</td>\n",
              "      <td>-0.437855</td>\n",
              "      <td>-0.395934</td>\n",
              "    </tr>\n",
              "    <tr>\n",
              "      <th>tweet 6</th>\n",
              "      <td>0.170897</td>\n",
              "      <td>0.248575</td>\n",
              "      <td>0.882842</td>\n",
              "      <td>0.159067</td>\n",
              "      <td>0.066065</td>\n",
              "      <td>0.315831</td>\n",
              "    </tr>\n",
              "    <tr>\n",
              "      <th>tweet 7</th>\n",
              "      <td>0.858997</td>\n",
              "      <td>-0.166430</td>\n",
              "      <td>-0.051150</td>\n",
              "      <td>-0.001266</td>\n",
              "      <td>-0.012120</td>\n",
              "      <td>-0.078641</td>\n",
              "    </tr>\n",
              "  </tbody>\n",
              "</table>\n",
              "</div>"
            ],
            "text/plain": [
              "             PC 1      PC 2      PC 3      PC 4      PC 5      PC 6\n",
              "tweet 1  0.190795  0.522172 -0.320986 -0.402427  0.317022  0.570479\n",
              "tweet 2  0.863433 -0.147772 -0.037959  0.022368 -0.029652 -0.052528\n",
              "tweet 3  0.076887  0.584450 -0.045046  0.322647  0.557497 -0.485339\n",
              "tweet 4  0.085014  0.510598 -0.267379  0.571403 -0.543106  0.197046\n",
              "tweet 5  0.074123  0.541002  0.179085 -0.566796 -0.437855 -0.395934\n",
              "tweet 6  0.170897  0.248575  0.882842  0.159067  0.066065  0.315831\n",
              "tweet 7  0.858997 -0.166430 -0.051150 -0.001266 -0.012120 -0.078641"
            ]
          },
          "metadata": {
            "tags": []
          },
          "execution_count": 60
        }
      ]
    },
    {
      "cell_type": "code",
      "metadata": {
        "id": "0oIwa1MSodwx",
        "colab_type": "code",
        "colab": {
          "base_uri": "https://localhost:8080/",
          "height": 67
        },
        "outputId": "f805e0fe-e1b5-47b7-efdf-d27dd87a8c94"
      },
      "source": [
        "from sklearn.cluster import KMeans\n",
        "model = KMeans (n_clusters=2, max_iter=100, random_state=100)\n",
        "model.fit(lsa_matrix)"
      ],
      "execution_count": null,
      "outputs": [
        {
          "output_type": "execute_result",
          "data": {
            "text/plain": [
              "KMeans(algorithm='auto', copy_x=True, init='k-means++', max_iter=100,\n",
              "       n_clusters=2, n_init=10, n_jobs=None, precompute_distances='auto',\n",
              "       random_state=100, tol=0.0001, verbose=0)"
            ]
          },
          "metadata": {
            "tags": []
          },
          "execution_count": 61
        }
      ]
    },
    {
      "cell_type": "code",
      "metadata": {
        "id": "43guvuekpL58",
        "colab_type": "code",
        "colab": {
          "base_uri": "https://localhost:8080/",
          "height": 33
        },
        "outputId": "20678c97-24e6-4750-cb74-adb5fd703e97"
      },
      "source": [
        "clust = model.labels_.tolist()\n",
        "clust"
      ],
      "execution_count": null,
      "outputs": [
        {
          "output_type": "execute_result",
          "data": {
            "text/plain": [
              "[0, 1, 0, 0, 0, 1, 1]"
            ]
          },
          "metadata": {
            "tags": []
          },
          "execution_count": 62
        }
      ]
    },
    {
      "cell_type": "code",
      "metadata": {
        "id": "RchNlaJtpTyB",
        "colab_type": "code",
        "colab": {
          "base_uri": "https://localhost:8080/",
          "height": 150
        },
        "outputId": "8a44b7c9-1f6c-4891-95d9-57edaeb3762f"
      },
      "source": [
        "cek_data = {'Tweet' : list_data, 'Cluster Code' : clust}\n",
        "cek_data"
      ],
      "execution_count": null,
      "outputs": [
        {
          "output_type": "execute_result",
          "data": {
            "text/plain": [
              "{'Cluster Code': [0, 1, 0, 0, 0, 1, 1],\n",
              " 'Tweet': ['@McDonalds the facility that you use was very bad and make me so angry',\n",
              "  '@McDonalds thank you very much for the nice hamburger',\n",
              "  '@McDonalds <a2323++++> facility is too BAD and BAD',\n",
              "  '@McDonalds give u a very BAD BAD rating on facility',\n",
              "  '@McDonalds your Facility was so bad',\n",
              "  '@McDonalds your hamburger is very delicious',\n",
              "  '@McDonalds Thank you for the NICE Hamburger…...']}"
            ]
          },
          "metadata": {
            "tags": []
          },
          "execution_count": 63
        }
      ]
    },
    {
      "cell_type": "code",
      "metadata": {
        "id": "MLtQXOsXpmYy",
        "colab_type": "code",
        "colab": {
          "base_uri": "https://localhost:8080/",
          "height": 257
        },
        "outputId": "00d87c59-30d2-4171-dc5c-de78325ea179"
      },
      "source": [
        "dataframe = pd.DataFrame(cek_data)\n",
        "dataframe"
      ],
      "execution_count": null,
      "outputs": [
        {
          "output_type": "execute_result",
          "data": {
            "text/html": [
              "<div>\n",
              "<style scoped>\n",
              "    .dataframe tbody tr th:only-of-type {\n",
              "        vertical-align: middle;\n",
              "    }\n",
              "\n",
              "    .dataframe tbody tr th {\n",
              "        vertical-align: top;\n",
              "    }\n",
              "\n",
              "    .dataframe thead th {\n",
              "        text-align: right;\n",
              "    }\n",
              "</style>\n",
              "<table border=\"1\" class=\"dataframe\">\n",
              "  <thead>\n",
              "    <tr style=\"text-align: right;\">\n",
              "      <th></th>\n",
              "      <th>Tweet</th>\n",
              "      <th>Cluster Code</th>\n",
              "    </tr>\n",
              "  </thead>\n",
              "  <tbody>\n",
              "    <tr>\n",
              "      <th>0</th>\n",
              "      <td>@McDonalds the facility that you use was very ...</td>\n",
              "      <td>0</td>\n",
              "    </tr>\n",
              "    <tr>\n",
              "      <th>1</th>\n",
              "      <td>@McDonalds thank you very much for the nice ha...</td>\n",
              "      <td>1</td>\n",
              "    </tr>\n",
              "    <tr>\n",
              "      <th>2</th>\n",
              "      <td>@McDonalds &lt;a2323++++&gt; facility is too BAD and...</td>\n",
              "      <td>0</td>\n",
              "    </tr>\n",
              "    <tr>\n",
              "      <th>3</th>\n",
              "      <td>@McDonalds give u a very BAD BAD rating on fac...</td>\n",
              "      <td>0</td>\n",
              "    </tr>\n",
              "    <tr>\n",
              "      <th>4</th>\n",
              "      <td>@McDonalds your Facility was so bad</td>\n",
              "      <td>0</td>\n",
              "    </tr>\n",
              "    <tr>\n",
              "      <th>5</th>\n",
              "      <td>@McDonalds your hamburger is very delicious</td>\n",
              "      <td>1</td>\n",
              "    </tr>\n",
              "    <tr>\n",
              "      <th>6</th>\n",
              "      <td>@McDonalds Thank you for the NICE Hamburger…...</td>\n",
              "      <td>1</td>\n",
              "    </tr>\n",
              "  </tbody>\n",
              "</table>\n",
              "</div>"
            ],
            "text/plain": [
              "                                               Tweet  Cluster Code\n",
              "0  @McDonalds the facility that you use was very ...             0\n",
              "1  @McDonalds thank you very much for the nice ha...             1\n",
              "2  @McDonalds <a2323++++> facility is too BAD and...             0\n",
              "3  @McDonalds give u a very BAD BAD rating on fac...             0\n",
              "4                @McDonalds your Facility was so bad             0\n",
              "5        @McDonalds your hamburger is very delicious             1\n",
              "6    @McDonalds Thank you for the NICE Hamburger…...             1"
            ]
          },
          "metadata": {
            "tags": []
          },
          "execution_count": 64
        }
      ]
    },
    {
      "cell_type": "code",
      "metadata": {
        "id": "dNgBNnMepygY",
        "colab_type": "code",
        "colab": {}
      },
      "source": [
        "centers = lsa.inverse_transform(model.cluster_centers_).argsort()[:, ::-1]\n",
        "\n",
        "terms = vect.get_feature_names()\n",
        "kata = []\n",
        "for i in range(0, 2):\n",
        "  l= []\n",
        "  l.append(\", \".join([terms[c] for c in centers[i, :3]]))\n",
        "  kata.append(l)"
      ],
      "execution_count": null,
      "outputs": []
    },
    {
      "cell_type": "code",
      "metadata": {
        "id": "cJQs5W-_qbwu",
        "colab_type": "code",
        "colab": {
          "base_uri": "https://localhost:8080/",
          "height": 33
        },
        "outputId": "078c362c-5e76-4b3a-904c-3531dacd6155"
      },
      "source": [
        "kata"
      ],
      "execution_count": null,
      "outputs": [
        {
          "output_type": "execute_result",
          "data": {
            "text/plain": [
              "[['bad, facility, so'], ['hamburger, for the nice, for']]"
            ]
          },
          "metadata": {
            "tags": []
          },
          "execution_count": 66
        }
      ]
    },
    {
      "cell_type": "code",
      "metadata": {
        "id": "hPnwPRK5qvN-",
        "colab_type": "code",
        "colab": {
          "base_uri": "https://localhost:8080/",
          "height": 67
        },
        "outputId": "67d880e1-28c4-4fda-c136-c940e2dd4acd"
      },
      "source": [
        "import nltk\n",
        "nltk.download('vader_lexicon')"
      ],
      "execution_count": null,
      "outputs": [
        {
          "output_type": "stream",
          "text": [
            "[nltk_data] Downloading package vader_lexicon to /root/nltk_data...\n",
            "[nltk_data]   Package vader_lexicon is already up-to-date!\n"
          ],
          "name": "stdout"
        },
        {
          "output_type": "execute_result",
          "data": {
            "text/plain": [
              "True"
            ]
          },
          "metadata": {
            "tags": []
          },
          "execution_count": 67
        }
      ]
    },
    {
      "cell_type": "code",
      "metadata": {
        "id": "XyVYxVP6156k",
        "colab_type": "code",
        "colab": {
          "base_uri": "https://localhost:8080/",
          "height": 70
        },
        "outputId": "6e69feb0-f1a2-4066-ae4b-bce811bb5f84"
      },
      "source": [
        "from nltk.sentiment.vader import SentimentIntensityAnalyzer\n",
        "\n",
        "sid = SentimentIntensityAnalyzer()"
      ],
      "execution_count": null,
      "outputs": [
        {
          "output_type": "stream",
          "text": [
            "/usr/local/lib/python3.6/dist-packages/nltk/twitter/__init__.py:20: UserWarning: The twython library has not been installed. Some functionality from the twitter package will not be available.\n",
            "  warnings.warn(\"The twython library has not been installed. \"\n"
          ],
          "name": "stderr"
        }
      ]
    },
    {
      "cell_type": "code",
      "metadata": {
        "id": "5fjeJLtu19hP",
        "colab_type": "code",
        "colab": {
          "base_uri": "https://localhost:8080/",
          "height": 33
        },
        "outputId": "fae13747-18a5-4aee-f5ec-c40b13f0d1cc"
      },
      "source": [
        "a = 'This was a VERY BAD movie.'\n",
        "sid.polarity_scores(a)"
      ],
      "execution_count": null,
      "outputs": [
        {
          "output_type": "execute_result",
          "data": {
            "text/plain": [
              "{'compound': -0.7398, 'neg': 0.568, 'neu': 0.432, 'pos': 0.0}"
            ]
          },
          "metadata": {
            "tags": []
          },
          "execution_count": 70
        }
      ]
    },
    {
      "cell_type": "code",
      "metadata": {
        "id": "AFoDwQVjOaha",
        "colab_type": "code",
        "colab": {}
      },
      "source": [
        ""
      ],
      "execution_count": null,
      "outputs": []
    }
  ]
}